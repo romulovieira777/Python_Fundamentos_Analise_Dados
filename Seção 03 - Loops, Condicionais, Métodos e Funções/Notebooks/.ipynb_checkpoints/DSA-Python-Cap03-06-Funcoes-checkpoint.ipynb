{
 "cells": [
  {
   "cell_type": "markdown",
   "id": "0fa87d9d",
   "metadata": {},
   "source": [
    "# <font color='Blue'>Data Science Academy - Python Fundamentos - Capítulo 3</font>"
   ]
  },
  {
   "cell_type": "markdown",
   "id": "a99f945a",
   "metadata": {},
   "source": [
    "## Funções"
   ]
  },
  {
   "cell_type": "code",
   "execution_count": 1,
   "id": "45baea52",
   "metadata": {},
   "outputs": [],
   "source": [
    "# Definindo uma função\n",
    "def primeiraFunc():\n",
    "    print('Hello World')"
   ]
  },
  {
   "cell_type": "code",
   "execution_count": 2,
   "id": "7efa9355",
   "metadata": {},
   "outputs": [
    {
     "name": "stdout",
     "output_type": "stream",
     "text": [
      "Hello World\n"
     ]
    }
   ],
   "source": [
    "primeiraFunc()"
   ]
  },
  {
   "cell_type": "code",
   "execution_count": 3,
   "id": "c46c707b",
   "metadata": {},
   "outputs": [],
   "source": [
    "# Definindo uma função com parâmetro\n",
    "def primeiraFunc(nome):\n",
    "    print('Hello %s' %(nome))"
   ]
  },
  {
   "cell_type": "code",
   "execution_count": 4,
   "id": "24c41107",
   "metadata": {},
   "outputs": [
    {
     "name": "stdout",
     "output_type": "stream",
     "text": [
      "Hello Aluno\n"
     ]
    }
   ],
   "source": [
    "primeiraFunc('Aluno')"
   ]
  },
  {
   "cell_type": "code",
   "execution_count": 5,
   "id": "1ae21dfa",
   "metadata": {},
   "outputs": [],
   "source": [
    "def funcLeitura():\n",
    "    for i in range(0, 5):\n",
    "        print(\"Número \" + str(i))"
   ]
  },
  {
   "cell_type": "code",
   "execution_count": 6,
   "id": "5fc6d568",
   "metadata": {},
   "outputs": [
    {
     "name": "stdout",
     "output_type": "stream",
     "text": [
      "Número 0\n",
      "Número 1\n",
      "Número 2\n",
      "Número 3\n",
      "Número 4\n"
     ]
    }
   ],
   "source": [
    "funcLeitura()"
   ]
  },
  {
   "cell_type": "code",
   "execution_count": 7,
   "id": "115e386d",
   "metadata": {},
   "outputs": [],
   "source": [
    "# Função para somar números\n",
    "def addNum(firstnum, secondnum):\n",
    "    print('Primeiro número: ' + str(firstnum))\n",
    "    print(\"Segundo número: \" + str(secondnum))\n",
    "    print(\"Soma: \", firstnum + secondnum)"
   ]
  },
  {
   "cell_type": "code",
   "execution_count": 8,
   "id": "2e57bd42",
   "metadata": {},
   "outputs": [
    {
     "name": "stdout",
     "output_type": "stream",
     "text": [
      "Primeiro número: 45\n",
      "Segundo número: 3\n",
      "Soma:  48\n"
     ]
    }
   ],
   "source": [
    "# Chamando a função e passando parâmetros\n",
    "addNum(45, 3)"
   ]
  },
  {
   "cell_type": "markdown",
   "id": "017b3ef4",
   "metadata": {},
   "source": [
    "## Variáveis locais e globais"
   ]
  },
  {
   "cell_type": "code",
   "execution_count": 9,
   "id": "c0b23868",
   "metadata": {},
   "outputs": [],
   "source": [
    "# Variável Global\n",
    "var_global = 10  # Essa é uma variável global\n",
    "\n",
    "def multiply(num1, num2):\n",
    "    var_global = num1 * num2  # Esta é uma variável local\n",
    "    print(var_global)"
   ]
  },
  {
   "cell_type": "code",
   "execution_count": 10,
   "id": "1464a6bc",
   "metadata": {},
   "outputs": [
    {
     "name": "stdout",
     "output_type": "stream",
     "text": [
      "125\n"
     ]
    }
   ],
   "source": [
    "multiply(5, 25)"
   ]
  },
  {
   "cell_type": "code",
   "execution_count": 11,
   "id": "92932ba3",
   "metadata": {},
   "outputs": [
    {
     "name": "stdout",
     "output_type": "stream",
     "text": [
      "10\n"
     ]
    }
   ],
   "source": [
    "print(var_global)"
   ]
  },
  {
   "cell_type": "code",
   "execution_count": 12,
   "id": "dd3a3cc9",
   "metadata": {},
   "outputs": [],
   "source": [
    "# Variável Local\n",
    "var_global = 10  # Esta é uma variável global\n",
    "\n",
    "def multiply(num1, num2):\n",
    "    var_local = num1 * num2  # Esta é uma variável local\n",
    "    print(var_local)"
   ]
  },
  {
   "cell_type": "code",
   "execution_count": 13,
   "id": "a4a6cf96",
   "metadata": {},
   "outputs": [
    {
     "name": "stdout",
     "output_type": "stream",
     "text": [
      "125\n"
     ]
    }
   ],
   "source": [
    "multiply(5, 25)"
   ]
  },
  {
   "cell_type": "code",
   "execution_count": 14,
   "id": "65411c36",
   "metadata": {},
   "outputs": [
    {
     "ename": "NameError",
     "evalue": "name 'var_local' is not defined",
     "output_type": "error",
     "traceback": [
      "\u001b[1;31m---------------------------------------------------------------------------\u001b[0m",
      "\u001b[1;31mNameError\u001b[0m                                 Traceback (most recent call last)",
      "Input \u001b[1;32mIn [14]\u001b[0m, in \u001b[0;36m<module>\u001b[1;34m\u001b[0m\n\u001b[1;32m----> 1\u001b[0m \u001b[38;5;28mprint\u001b[39m(\u001b[43mvar_local\u001b[49m)\n",
      "\u001b[1;31mNameError\u001b[0m: name 'var_local' is not defined"
     ]
    }
   ],
   "source": [
    "print(var_local)"
   ]
  },
  {
   "cell_type": "markdown",
   "id": "01018455",
   "metadata": {},
   "source": [
    "## Funções Built-in"
   ]
  },
  {
   "cell_type": "code",
   "execution_count": 15,
   "id": "ddb90ba2",
   "metadata": {},
   "outputs": [
    {
     "data": {
      "text/plain": [
       "56"
      ]
     },
     "execution_count": 15,
     "metadata": {},
     "output_type": "execute_result"
    }
   ],
   "source": [
    "abs(-56)"
   ]
  },
  {
   "cell_type": "code",
   "execution_count": 16,
   "id": "3294c9a1",
   "metadata": {},
   "outputs": [
    {
     "data": {
      "text/plain": [
       "23"
      ]
     },
     "execution_count": 16,
     "metadata": {},
     "output_type": "execute_result"
    }
   ],
   "source": [
    "abs(23)"
   ]
  },
  {
   "cell_type": "code",
   "execution_count": 17,
   "id": "8dcb8a51",
   "metadata": {},
   "outputs": [
    {
     "data": {
      "text/plain": [
       "False"
      ]
     },
     "execution_count": 17,
     "metadata": {},
     "output_type": "execute_result"
    }
   ],
   "source": [
    "bool(0)"
   ]
  },
  {
   "cell_type": "code",
   "execution_count": 18,
   "id": "cb12dad0",
   "metadata": {},
   "outputs": [
    {
     "data": {
      "text/plain": [
       "True"
      ]
     },
     "execution_count": 18,
     "metadata": {},
     "output_type": "execute_result"
    }
   ],
   "source": [
    "bool(1)"
   ]
  },
  {
   "cell_type": "markdown",
   "id": "701f0bad",
   "metadata": {},
   "source": [
    "## Funções str, int, float"
   ]
  },
  {
   "cell_type": "code",
   "execution_count": 19,
   "id": "c0693977",
   "metadata": {},
   "outputs": [
    {
     "name": "stdout",
     "output_type": "stream",
     "text": [
      "Digite sua idade: 14\n"
     ]
    },
    {
     "ename": "TypeError",
     "evalue": "'>' not supported between instances of 'str' and 'int'",
     "output_type": "error",
     "traceback": [
      "\u001b[1;31m---------------------------------------------------------------------------\u001b[0m",
      "\u001b[1;31mTypeError\u001b[0m                                 Traceback (most recent call last)",
      "Input \u001b[1;32mIn [19]\u001b[0m, in \u001b[0;36m<module>\u001b[1;34m\u001b[0m\n\u001b[0;32m      1\u001b[0m \u001b[38;5;66;03m# Erro ao executar por causa da conversão\u001b[39;00m\n\u001b[0;32m      2\u001b[0m idade \u001b[38;5;241m=\u001b[39m \u001b[38;5;28minput\u001b[39m(\u001b[38;5;124m\"\u001b[39m\u001b[38;5;124mDigite sua idade: \u001b[39m\u001b[38;5;124m\"\u001b[39m)\n\u001b[1;32m----> 4\u001b[0m \u001b[38;5;28;01mif\u001b[39;00m \u001b[43midade\u001b[49m\u001b[43m \u001b[49m\u001b[38;5;241;43m>\u001b[39;49m\u001b[43m \u001b[49m\u001b[38;5;241;43m13\u001b[39;49m:\n\u001b[0;32m      5\u001b[0m     \u001b[38;5;28mprint\u001b[39m(\u001b[38;5;124m\"\u001b[39m\u001b[38;5;124mVocê pode acessar o Facebook\u001b[39m\u001b[38;5;124m\"\u001b[39m)\n",
      "\u001b[1;31mTypeError\u001b[0m: '>' not supported between instances of 'str' and 'int'"
     ]
    }
   ],
   "source": [
    "# Erro ao executar por causa da conversão\n",
    "idade = input(\"Digite sua idade: \")\n",
    "\n",
    "if idade > 13:\n",
    "    print(\"Você pode acessar o Facebook\")"
   ]
  },
  {
   "cell_type": "code",
   "execution_count": 20,
   "id": "d6b5061b",
   "metadata": {},
   "outputs": [
    {
     "name": "stdout",
     "output_type": "stream",
     "text": [
      "Digite sua idade: 14\n",
      "Você pode acessar o Facebook\n"
     ]
    }
   ],
   "source": [
    "# Usando a função int para converter o valor digitado\n",
    "idade = int(input(\"Digite sua idade: \"))\n",
    "\n",
    "if idade > 13:\n",
    "    print(\"Você pode acessar o Facebook\")"
   ]
  },
  {
   "cell_type": "code",
   "execution_count": 21,
   "id": "3a6ed240",
   "metadata": {},
   "outputs": [
    {
     "data": {
      "text/plain": [
       "26"
      ]
     },
     "execution_count": 21,
     "metadata": {},
     "output_type": "execute_result"
    }
   ],
   "source": [
    "int(\"26\")"
   ]
  },
  {
   "cell_type": "code",
   "execution_count": 22,
   "id": "4d0a7464",
   "metadata": {},
   "outputs": [
    {
     "data": {
      "text/plain": [
       "123.345"
      ]
     },
     "execution_count": 22,
     "metadata": {},
     "output_type": "execute_result"
    }
   ],
   "source": [
    "float(\"123.345\")"
   ]
  },
  {
   "cell_type": "code",
   "execution_count": 23,
   "id": "98cb6e21",
   "metadata": {},
   "outputs": [
    {
     "data": {
      "text/plain": [
       "'14'"
      ]
     },
     "execution_count": 23,
     "metadata": {},
     "output_type": "execute_result"
    }
   ],
   "source": [
    "str(14)"
   ]
  },
  {
   "cell_type": "code",
   "execution_count": 24,
   "id": "f9535f03",
   "metadata": {},
   "outputs": [
    {
     "data": {
      "text/plain": [
       "4"
      ]
     },
     "execution_count": 24,
     "metadata": {},
     "output_type": "execute_result"
    }
   ],
   "source": [
    "len([23, 34, 45, 46])"
   ]
  },
  {
   "cell_type": "code",
   "execution_count": 25,
   "id": "44ffcde6",
   "metadata": {},
   "outputs": [],
   "source": [
    "array = ['a', 'b', 'c']"
   ]
  },
  {
   "cell_type": "code",
   "execution_count": 26,
   "id": "f412e1ab",
   "metadata": {},
   "outputs": [
    {
     "data": {
      "text/plain": [
       "'c'"
      ]
     },
     "execution_count": 26,
     "metadata": {},
     "output_type": "execute_result"
    }
   ],
   "source": [
    "max(array)"
   ]
  },
  {
   "cell_type": "code",
   "execution_count": 27,
   "id": "22570a78",
   "metadata": {},
   "outputs": [
    {
     "data": {
      "text/plain": [
       "'a'"
      ]
     },
     "execution_count": 27,
     "metadata": {},
     "output_type": "execute_result"
    }
   ],
   "source": [
    "min(array)"
   ]
  },
  {
   "cell_type": "code",
   "execution_count": 28,
   "id": "7310641f",
   "metadata": {},
   "outputs": [],
   "source": [
    "array = ['a', 'b', 'c', 'd', 'A', 'B', 'C', 'D']"
   ]
  },
  {
   "cell_type": "code",
   "execution_count": 29,
   "id": "61d5a8ce",
   "metadata": {},
   "outputs": [
    {
     "data": {
      "text/plain": [
       "['a', 'b', 'c', 'd', 'A', 'B', 'C', 'D']"
      ]
     },
     "execution_count": 29,
     "metadata": {},
     "output_type": "execute_result"
    }
   ],
   "source": [
    "array"
   ]
  },
  {
   "cell_type": "code",
   "execution_count": 30,
   "id": "b873549e",
   "metadata": {},
   "outputs": [
    {
     "data": {
      "text/plain": [
       "'d'"
      ]
     },
     "execution_count": 30,
     "metadata": {},
     "output_type": "execute_result"
    }
   ],
   "source": [
    "max(array)"
   ]
  },
  {
   "cell_type": "code",
   "execution_count": 31,
   "id": "ca53dce5",
   "metadata": {},
   "outputs": [
    {
     "data": {
      "text/plain": [
       "'A'"
      ]
     },
     "execution_count": 31,
     "metadata": {},
     "output_type": "execute_result"
    }
   ],
   "source": [
    "min(array)"
   ]
  },
  {
   "cell_type": "code",
   "execution_count": 32,
   "id": "69abee4d",
   "metadata": {},
   "outputs": [],
   "source": [
    "list1 = [23, 23, 34, 45]"
   ]
  },
  {
   "cell_type": "code",
   "execution_count": 33,
   "id": "7e3b33f1",
   "metadata": {},
   "outputs": [
    {
     "data": {
      "text/plain": [
       "125"
      ]
     },
     "execution_count": 33,
     "metadata": {},
     "output_type": "execute_result"
    }
   ],
   "source": [
    "sum(list1)"
   ]
  },
  {
   "cell_type": "markdown",
   "id": "88fd04eb",
   "metadata": {},
   "source": [
    "# Criando funções usando outras funções"
   ]
  },
  {
   "cell_type": "code",
   "execution_count": 34,
   "id": "c164457b",
   "metadata": {},
   "outputs": [],
   "source": [
    "import math\n",
    "\n",
    "def numPrimo(num):\n",
    "    '''\n",
    "    Verificando se um número é primo.\n",
    "    '''\n",
    "    if(num % 2) == 0 and num > 2:\n",
    "        return \"Este número não é primo.\"\n",
    "    for i in range(3, int(math.sqrt(num)) + 1, 2):\n",
    "        return \"Este número não é primo\"\n",
    "    return \"Este número é primo\""
   ]
  },
  {
   "cell_type": "code",
   "execution_count": 35,
   "id": "54602982",
   "metadata": {},
   "outputs": [
    {
     "data": {
      "text/plain": [
       "'Este número não é primo'"
      ]
     },
     "execution_count": 35,
     "metadata": {},
     "output_type": "execute_result"
    }
   ],
   "source": [
    "numPrimo(541)"
   ]
  },
  {
   "cell_type": "markdown",
   "id": "2c886bb1",
   "metadata": {},
   "source": [
    "## Fazendo split dos dados"
   ]
  },
  {
   "cell_type": "code",
   "execution_count": 36,
   "id": "53eec793",
   "metadata": {},
   "outputs": [],
   "source": [
    "# Fazendo split dos dados\n",
    "def split_string(text):\n",
    "    return text.split(\" \")"
   ]
  },
  {
   "cell_type": "code",
   "execution_count": 37,
   "id": "eb367fea",
   "metadata": {},
   "outputs": [],
   "source": [
    "texto = \"Esta função será bastante útil para separar grande volumes de dados.\""
   ]
  },
  {
   "cell_type": "code",
   "execution_count": 38,
   "id": "10eec163",
   "metadata": {},
   "outputs": [
    {
     "name": "stdout",
     "output_type": "stream",
     "text": [
      "['Esta', 'função', 'será', 'bastante', 'útil', 'para', 'separar', 'grande', 'volumes', 'de', 'dados.']\n"
     ]
    }
   ],
   "source": [
    "# Isso divide a string em uma lista\n",
    "print(split_string(texto))"
   ]
  },
  {
   "cell_type": "code",
   "execution_count": 39,
   "id": "de3c6531",
   "metadata": {},
   "outputs": [],
   "source": [
    "# Podemos atribuir o output de uma função, para uma variável\n",
    "token = split_string(texto)"
   ]
  },
  {
   "cell_type": "code",
   "execution_count": 40,
   "id": "794b0e40",
   "metadata": {},
   "outputs": [
    {
     "data": {
      "text/plain": [
       "['Esta',\n",
       " 'função',\n",
       " 'será',\n",
       " 'bastante',\n",
       " 'útil',\n",
       " 'para',\n",
       " 'separar',\n",
       " 'grande',\n",
       " 'volumes',\n",
       " 'de',\n",
       " 'dados.']"
      ]
     },
     "execution_count": 40,
     "metadata": {},
     "output_type": "execute_result"
    }
   ],
   "source": [
    "token"
   ]
  },
  {
   "cell_type": "code",
   "execution_count": 41,
   "id": "a3b81e07",
   "metadata": {},
   "outputs": [],
   "source": [
    "caixa_baixa = \"Este Teto Deveria Estar Todo Em LowerCase\""
   ]
  },
  {
   "cell_type": "code",
   "execution_count": 42,
   "id": "f464314d",
   "metadata": {},
   "outputs": [],
   "source": [
    "def lowercase(text):\n",
    "    return text.lower()"
   ]
  },
  {
   "cell_type": "code",
   "execution_count": 43,
   "id": "5f325a35",
   "metadata": {},
   "outputs": [],
   "source": [
    "lowercased_string = lowercase(caixa_baixa)"
   ]
  },
  {
   "cell_type": "code",
   "execution_count": 44,
   "id": "09d4b071",
   "metadata": {},
   "outputs": [
    {
     "data": {
      "text/plain": [
       "'este teto deveria estar todo em lowercase'"
      ]
     },
     "execution_count": 44,
     "metadata": {},
     "output_type": "execute_result"
    }
   ],
   "source": [
    "lowercased_string"
   ]
  },
  {
   "cell_type": "code",
   "execution_count": 45,
   "id": "2d89b8c9",
   "metadata": {},
   "outputs": [],
   "source": [
    "# Funções com número variável de argumentos\n",
    "def printVarInfo(arg1, *vartuple):\n",
    "    # Imprimindo o valor do primeiro argumento\n",
    "    print(\"O parâmetro passado foi: \", arg1)\n",
    "    \n",
    "    # Imprimindo o valor do segundo argumento\n",
    "    for item in vartuple:\n",
    "        print(\"O parâmetro passado foi: \", item)\n",
    "    return;"
   ]
  },
  {
   "cell_type": "code",
   "execution_count": 46,
   "id": "879a109b",
   "metadata": {},
   "outputs": [
    {
     "name": "stdout",
     "output_type": "stream",
     "text": [
      "O parâmetro passado foi:  10\n"
     ]
    }
   ],
   "source": [
    "# Fazendo chamada à função usando apenas 1 argumento\n",
    "printVarInfo(10)"
   ]
  },
  {
   "cell_type": "code",
   "execution_count": 47,
   "id": "3b124bec",
   "metadata": {},
   "outputs": [
    {
     "name": "stdout",
     "output_type": "stream",
     "text": [
      "O parâmetro passado foi:  Chocolate\n",
      "O parâmetro passado foi:  Morango\n",
      "O parâmetro passado foi:  Banana\n"
     ]
    }
   ],
   "source": [
    "printVarInfo(\"Chocolate\", \"Morango\", \"Banana\")"
   ]
  },
  {
   "cell_type": "markdown",
   "id": "b838a0c9",
   "metadata": {},
   "source": [
    "## Fim"
   ]
  }
 ],
 "metadata": {
  "kernelspec": {
   "display_name": "Python 3 (ipykernel)",
   "language": "python",
   "name": "python3"
  },
  "language_info": {
   "codemirror_mode": {
    "name": "ipython",
    "version": 3
   },
   "file_extension": ".py",
   "mimetype": "text/x-python",
   "name": "python",
   "nbconvert_exporter": "python",
   "pygments_lexer": "ipython3",
   "version": "3.10.2"
  }
 },
 "nbformat": 4,
 "nbformat_minor": 5
}
