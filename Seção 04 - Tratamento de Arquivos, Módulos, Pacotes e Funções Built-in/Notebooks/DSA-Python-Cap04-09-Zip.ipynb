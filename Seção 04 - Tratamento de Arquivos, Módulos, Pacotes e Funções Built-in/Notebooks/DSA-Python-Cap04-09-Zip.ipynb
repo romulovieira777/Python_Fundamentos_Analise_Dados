{
 "cells": [
  {
   "cell_type": "markdown",
   "id": "5f6418cb",
   "metadata": {},
   "source": [
    "# <font color='Blue'>Data Science Academy - Python Fundamentos - Capítulo 4</font>"
   ]
  },
  {
   "cell_type": "markdown",
   "id": "e072afa4",
   "metadata": {},
   "source": [
    "## Zip"
   ]
  },
  {
   "cell_type": "code",
   "execution_count": 1,
   "id": "614e2cca",
   "metadata": {},
   "outputs": [],
   "source": [
    "# Criando duas listas\n",
    "x = [1, 2, 3]\n",
    "y = [4, 5, 6]"
   ]
  },
  {
   "cell_type": "code",
   "execution_count": 2,
   "id": "290615ab",
   "metadata": {},
   "outputs": [
    {
     "data": {
      "text/plain": [
       "<zip at 0x1a53bce2c80>"
      ]
     },
     "execution_count": 2,
     "metadata": {},
     "output_type": "execute_result"
    }
   ],
   "source": [
    "# Unindo as listas. Em Python3 retorna um iterator\n",
    "zip(x, y)"
   ]
  },
  {
   "cell_type": "code",
   "execution_count": 3,
   "id": "542d7743",
   "metadata": {},
   "outputs": [
    {
     "data": {
      "text/plain": [
       "[(1, 4), (2, 5), (3, 6)]"
      ]
     },
     "execution_count": 3,
     "metadata": {},
     "output_type": "execute_result"
    }
   ],
   "source": [
    "# Perceba que zip retorna tuplas. Neste caso, uma lista de tuplas\n",
    "list(zip(x, y))"
   ]
  },
  {
   "cell_type": "code",
   "execution_count": 4,
   "id": "e7526d8c",
   "metadata": {},
   "outputs": [
    {
     "data": {
      "text/plain": [
       "[('A', 'x'), ('B', 'y')]"
      ]
     },
     "execution_count": 4,
     "metadata": {},
     "output_type": "execute_result"
    }
   ],
   "source": [
    "# Atenção quando as sequências tiverem número diferente de elementos\n",
    "list(zip('ABCD', 'xy'))"
   ]
  },
  {
   "cell_type": "code",
   "execution_count": 5,
   "id": "9247d6df",
   "metadata": {},
   "outputs": [],
   "source": [
    "# Criando duas listas\n",
    "a = [1, 2, 3]\n",
    "b = [4, 5, 6, 7, 8]"
   ]
  },
  {
   "cell_type": "code",
   "execution_count": 6,
   "id": "6f3cf316",
   "metadata": {},
   "outputs": [
    {
     "data": {
      "text/plain": [
       "[(1, 4), (2, 5), (3, 6)]"
      ]
     },
     "execution_count": 6,
     "metadata": {},
     "output_type": "execute_result"
    }
   ],
   "source": [
    "list(zip(a, b))"
   ]
  },
  {
   "cell_type": "code",
   "execution_count": 7,
   "id": "21b43a85",
   "metadata": {},
   "outputs": [],
   "source": [
    "# Criando 2 dicionários\n",
    "d1 = {'a': 1, 'b': 2}\n",
    "d2 = {'c': 4, 'd': 5}"
   ]
  },
  {
   "cell_type": "code",
   "execution_count": 8,
   "id": "c37ed444",
   "metadata": {},
   "outputs": [
    {
     "data": {
      "text/plain": [
       "[('a', 'c'), ('b', 'd')]"
      ]
     },
     "execution_count": 8,
     "metadata": {},
     "output_type": "execute_result"
    }
   ],
   "source": [
    "# Zip vai unir as chaves\n",
    "list(zip(d1, d2))"
   ]
  },
  {
   "cell_type": "code",
   "execution_count": 9,
   "id": "fd65ffdb",
   "metadata": {},
   "outputs": [
    {
     "data": {
      "text/plain": [
       "[('a', 4), ('b', 5)]"
      ]
     },
     "execution_count": 9,
     "metadata": {},
     "output_type": "execute_result"
    }
   ],
   "source": [
    "# Zip pode unir os valores (items)\n",
    "list(zip(d1, d2.values()))"
   ]
  },
  {
   "cell_type": "code",
   "execution_count": 10,
   "id": "ba65a056",
   "metadata": {},
   "outputs": [],
   "source": [
    "# Criando uma função para trocar valores entre dicionários\n",
    "def trocaValores(d1, d2):\n",
    "    dicTemp = {}\n",
    "    \n",
    "    for d1key, d2val in zip(d1, d2.values()):\n",
    "        dicTemp[d1key] = d2val\n",
    "        \n",
    "    return dicTemp"
   ]
  },
  {
   "cell_type": "code",
   "execution_count": 11,
   "id": "5eff1220",
   "metadata": {},
   "outputs": [
    {
     "data": {
      "text/plain": [
       "{'a': 4, 'b': 5}"
      ]
     },
     "execution_count": 11,
     "metadata": {},
     "output_type": "execute_result"
    }
   ],
   "source": [
    "trocaValores(d1, d2)"
   ]
  },
  {
   "cell_type": "markdown",
   "id": "26d93e32",
   "metadata": {},
   "source": [
    "## Fim"
   ]
  }
 ],
 "metadata": {
  "kernelspec": {
   "display_name": "Python 3 (ipykernel)",
   "language": "python",
   "name": "python3"
  },
  "language_info": {
   "codemirror_mode": {
    "name": "ipython",
    "version": 3
   },
   "file_extension": ".py",
   "mimetype": "text/x-python",
   "name": "python",
   "nbconvert_exporter": "python",
   "pygments_lexer": "ipython3",
   "version": "3.10.2"
  }
 },
 "nbformat": 4,
 "nbformat_minor": 5
}
