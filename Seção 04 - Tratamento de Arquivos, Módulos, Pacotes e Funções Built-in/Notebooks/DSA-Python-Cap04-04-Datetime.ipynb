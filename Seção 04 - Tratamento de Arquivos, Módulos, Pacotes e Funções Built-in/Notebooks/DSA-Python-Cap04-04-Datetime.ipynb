{
 "cells": [
  {
   "cell_type": "markdown",
   "id": "a31f7540",
   "metadata": {},
   "source": [
    "# <font color='Blue'>Data Science Academy - Python Fundamentos - Capítulo 4</font>"
   ]
  },
  {
   "cell_type": "markdown",
   "id": "d3cefb08",
   "metadata": {},
   "source": [
    "## Datetime\n",
    "\n",
    "Esse módulo permite a manipulação de datas em Python."
   ]
  },
  {
   "cell_type": "code",
   "execution_count": 1,
   "id": "5112f61e",
   "metadata": {},
   "outputs": [],
   "source": [
    "import datetime"
   ]
  },
  {
   "cell_type": "code",
   "execution_count": 2,
   "id": "1347881f",
   "metadata": {},
   "outputs": [],
   "source": [
    "agora = datetime.datetime.now()"
   ]
  },
  {
   "cell_type": "code",
   "execution_count": 3,
   "id": "7ed11a3b",
   "metadata": {},
   "outputs": [
    {
     "data": {
      "text/plain": [
       "datetime.datetime(2022, 2, 10, 16, 17, 54, 400597)"
      ]
     },
     "execution_count": 3,
     "metadata": {},
     "output_type": "execute_result"
    }
   ],
   "source": [
    "agora"
   ]
  },
  {
   "cell_type": "code",
   "execution_count": 4,
   "id": "f725271a",
   "metadata": {},
   "outputs": [],
   "source": [
    "t = datetime.time(7, 43, 28)"
   ]
  },
  {
   "cell_type": "code",
   "execution_count": 5,
   "id": "80513d6d",
   "metadata": {},
   "outputs": [
    {
     "name": "stdout",
     "output_type": "stream",
     "text": [
      "07:43:28\n"
     ]
    }
   ],
   "source": [
    "print(t)"
   ]
  },
  {
   "cell_type": "code",
   "execution_count": 6,
   "id": "4fec1536",
   "metadata": {},
   "outputs": [
    {
     "name": "stdout",
     "output_type": "stream",
     "text": [
      "Hora:  7\n",
      "Minute:  43\n",
      "Segundo:  28\n",
      "Microsegundo:  0\n"
     ]
    }
   ],
   "source": [
    "print('Hora: ', t.hour)\n",
    "print('Minute: ', t.minute)\n",
    "print('Segundo: ', t.second)\n",
    "print('Microsegundo: ', t.microsecond)"
   ]
  },
  {
   "cell_type": "code",
   "execution_count": 7,
   "id": "b9f23ebb",
   "metadata": {},
   "outputs": [
    {
     "name": "stdout",
     "output_type": "stream",
     "text": [
      "00:00:00\n"
     ]
    }
   ],
   "source": [
    "print(datetime.time.min)"
   ]
  },
  {
   "cell_type": "code",
   "execution_count": 8,
   "id": "91232c8f",
   "metadata": {},
   "outputs": [],
   "source": [
    "hoje = datetime.date.today()"
   ]
  },
  {
   "cell_type": "code",
   "execution_count": 9,
   "id": "ff45f997",
   "metadata": {},
   "outputs": [
    {
     "name": "stdout",
     "output_type": "stream",
     "text": [
      "2022-02-10\n",
      "ctime:  Thu Feb 10 00:00:00 2022\n",
      "Ano:  2022\n",
      "Mês:  2\n",
      "Dia:  10\n"
     ]
    }
   ],
   "source": [
    "print(hoje)\n",
    "print('ctime: ', hoje.ctime())\n",
    "print('Ano: ', hoje.year)\n",
    "print('Mês: ', hoje.month)\n",
    "print('Dia: ', hoje.day)"
   ]
  },
  {
   "cell_type": "code",
   "execution_count": 10,
   "id": "37952d0f",
   "metadata": {},
   "outputs": [
    {
     "name": "stdout",
     "output_type": "stream",
     "text": [
      "d1: 2015-04-28\n"
     ]
    }
   ],
   "source": [
    "d1 = datetime.date(2015, 4, 28)\n",
    "print('d1:', d1)"
   ]
  },
  {
   "cell_type": "code",
   "execution_count": 11,
   "id": "597fdacb",
   "metadata": {},
   "outputs": [
    {
     "name": "stdout",
     "output_type": "stream",
     "text": [
      "d2: 2016-04-28\n"
     ]
    }
   ],
   "source": [
    "d2 = d1.replace(year=2016)\n",
    "print('d2:', d2)"
   ]
  },
  {
   "cell_type": "code",
   "execution_count": 12,
   "id": "4dde15ce",
   "metadata": {},
   "outputs": [
    {
     "data": {
      "text/plain": [
       "datetime.timedelta(days=366)"
      ]
     },
     "execution_count": 12,
     "metadata": {},
     "output_type": "execute_result"
    }
   ],
   "source": [
    "# Diferença em dias entre duas datas\n",
    "d2 - d1"
   ]
  },
  {
   "cell_type": "markdown",
   "id": "72089bad",
   "metadata": {},
   "source": [
    "## Fim"
   ]
  }
 ],
 "metadata": {
  "kernelspec": {
   "display_name": "Python 3 (ipykernel)",
   "language": "python",
   "name": "python3"
  },
  "language_info": {
   "codemirror_mode": {
    "name": "ipython",
    "version": 3
   },
   "file_extension": ".py",
   "mimetype": "text/x-python",
   "name": "python",
   "nbconvert_exporter": "python",
   "pygments_lexer": "ipython3",
   "version": "3.10.2"
  }
 },
 "nbformat": 4,
 "nbformat_minor": 5
}
