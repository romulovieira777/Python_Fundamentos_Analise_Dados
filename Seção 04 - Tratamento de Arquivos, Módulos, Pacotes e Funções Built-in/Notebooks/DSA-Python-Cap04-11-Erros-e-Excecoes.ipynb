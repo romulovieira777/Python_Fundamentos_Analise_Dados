{
 "cells": [
  {
   "cell_type": "markdown",
   "id": "9f47965c",
   "metadata": {},
   "source": [
    "# <font color='Blue'>Data Science Academy - Python Fundamentos - Capítulo 5</font>"
   ]
  },
  {
   "cell_type": "markdown",
   "id": "8daa03a7",
   "metadata": {},
   "source": [
    "## Erros e Exceções"
   ]
  },
  {
   "cell_type": "code",
   "execution_count": 1,
   "id": "740b3329",
   "metadata": {},
   "outputs": [
    {
     "ename": "SyntaxError",
     "evalue": "unterminated string literal (detected at line 2) (2176269692.py, line 2)",
     "output_type": "error",
     "traceback": [
      "\u001b[1;36m  Input \u001b[1;32mIn [1]\u001b[1;36m\u001b[0m\n\u001b[1;33m    print('Olá)\u001b[0m\n\u001b[1;37m          ^\u001b[0m\n\u001b[1;31mSyntaxError\u001b[0m\u001b[1;31m:\u001b[0m unterminated string literal (detected at line 2)\n"
     ]
    }
   ],
   "source": [
    "# Erro\n",
    "print('Olá)"
   ]
  },
  {
   "cell_type": "code",
   "execution_count": 2,
   "id": "5d320a71",
   "metadata": {},
   "outputs": [],
   "source": [
    "# Criando uma função\n",
    "def numDiv(num1, num2):\n",
    "    resultado = num1 / num2\n",
    "    print(resultado)"
   ]
  },
  {
   "cell_type": "code",
   "execution_count": 3,
   "id": "01824ed3",
   "metadata": {},
   "outputs": [
    {
     "name": "stdout",
     "output_type": "stream",
     "text": [
      "2.0\n"
     ]
    }
   ],
   "source": [
    "# Execução não gera erro\n",
    "numDiv(4, 2)"
   ]
  },
  {
   "cell_type": "code",
   "execution_count": 4,
   "id": "55b25ca1",
   "metadata": {},
   "outputs": [
    {
     "ename": "ZeroDivisionError",
     "evalue": "division by zero",
     "output_type": "error",
     "traceback": [
      "\u001b[1;31m---------------------------------------------------------------------------\u001b[0m",
      "\u001b[1;31mZeroDivisionError\u001b[0m                         Traceback (most recent call last)",
      "Input \u001b[1;32mIn [4]\u001b[0m, in \u001b[0;36m<module>\u001b[1;34m\u001b[0m\n\u001b[0;32m      1\u001b[0m \u001b[38;5;66;03m# Execução gerando erro\u001b[39;00m\n\u001b[1;32m----> 2\u001b[0m \u001b[43mnumDiv\u001b[49m\u001b[43m(\u001b[49m\u001b[38;5;241;43m4\u001b[39;49m\u001b[43m,\u001b[49m\u001b[43m \u001b[49m\u001b[38;5;241;43m0\u001b[39;49m\u001b[43m)\u001b[49m\n",
      "Input \u001b[1;32mIn [2]\u001b[0m, in \u001b[0;36mnumDiv\u001b[1;34m(num1, num2)\u001b[0m\n\u001b[0;32m      2\u001b[0m \u001b[38;5;28;01mdef\u001b[39;00m \u001b[38;5;21mnumDiv\u001b[39m(num1, num2):\n\u001b[1;32m----> 3\u001b[0m     resultado \u001b[38;5;241m=\u001b[39m \u001b[43mnum1\u001b[49m\u001b[43m \u001b[49m\u001b[38;5;241;43m/\u001b[39;49m\u001b[43m \u001b[49m\u001b[43mnum2\u001b[49m\n\u001b[0;32m      4\u001b[0m     \u001b[38;5;28mprint\u001b[39m(resultado)\n",
      "\u001b[1;31mZeroDivisionError\u001b[0m: division by zero"
     ]
    }
   ],
   "source": [
    "# Execução gerando erro\n",
    "numDiv(4, 0)"
   ]
  },
  {
   "cell_type": "markdown",
   "id": "f0d6c108",
   "metadata": {},
   "source": [
    "## Try, Except, Finally"
   ]
  },
  {
   "cell_type": "code",
   "execution_count": 5,
   "id": "e73e686b",
   "metadata": {},
   "outputs": [
    {
     "ename": "TypeError",
     "evalue": "unsupported operand type(s) for +: 'int' and 'str'",
     "output_type": "error",
     "traceback": [
      "\u001b[1;31m---------------------------------------------------------------------------\u001b[0m",
      "\u001b[1;31mTypeError\u001b[0m                                 Traceback (most recent call last)",
      "Input \u001b[1;32mIn [5]\u001b[0m, in \u001b[0;36m<module>\u001b[1;34m\u001b[0m\n\u001b[1;32m----> 1\u001b[0m \u001b[38;5;241;43m8\u001b[39;49m\u001b[43m \u001b[49m\u001b[38;5;241;43m+\u001b[39;49m\u001b[43m \u001b[49m\u001b[38;5;124;43m'\u001b[39;49m\u001b[38;5;124;43ms\u001b[39;49m\u001b[38;5;124;43m'\u001b[39;49m\n",
      "\u001b[1;31mTypeError\u001b[0m: unsupported operand type(s) for +: 'int' and 'str'"
     ]
    }
   ],
   "source": [
    "8 + 's'"
   ]
  },
  {
   "cell_type": "code",
   "execution_count": 6,
   "id": "21921bc5",
   "metadata": {},
   "outputs": [
    {
     "name": "stdout",
     "output_type": "stream",
     "text": [
      "Operação não permitida!\n"
     ]
    }
   ],
   "source": [
    "# utilizando try e except\n",
    "try:\n",
    "    8 + 's'\n",
    "except TypeError:\n",
    "    print(\"Operação não permitida!\")"
   ]
  },
  {
   "cell_type": "code",
   "execution_count": 7,
   "id": "7fb9069c",
   "metadata": {},
   "outputs": [
    {
     "name": "stdout",
     "output_type": "stream",
     "text": [
      "Erro: arquivo não encontrado ou não pode ser lido.\n"
     ]
    }
   ],
   "source": [
    "# Utilizando try, excepy e else\n",
    "try:\n",
    "    f = open('Arquivos/testandoerros.txt', 'r')\n",
    "except IOError:\n",
    "    print(\"Erro: arquivo não encontrado ou não pode ser lido.\")\n",
    "else:\n",
    "    print(\"Conteúdo gravado com sucesso!\")\n",
    "    f.close()"
   ]
  },
  {
   "cell_type": "code",
   "execution_count": 8,
   "id": "d0d88ca6",
   "metadata": {},
   "outputs": [
    {
     "name": "stdout",
     "output_type": "stream",
     "text": [
      "Conteúdo gravado com sucesso!\n"
     ]
    }
   ],
   "source": [
    "# Utilizando try, except e else\n",
    "try:\n",
    "    f = open('Arquivos/testandoerros.txt', 'w')\n",
    "    f.write('Gravando no arquivo')\n",
    "except IOError:\n",
    "    print('Erro: arquivo não encontrado ou não pode ser salvo.')\n",
    "else:\n",
    "    print(\"Conteúdo gravado com sucesso!\")\n",
    "    f.close()"
   ]
  },
  {
   "cell_type": "code",
   "execution_count": 9,
   "id": "b25f15c2",
   "metadata": {},
   "outputs": [
    {
     "name": "stdout",
     "output_type": "stream",
     "text": [
      "Conteúdo gravado com sucesso!\n",
      "Comandos no bloco finally são sempre executados!\n"
     ]
    }
   ],
   "source": [
    "try:\n",
    "    f = open('Arquivos/testandoerros.txt', 'w')\n",
    "    f.write('Gravando arquivo')\n",
    "except IOError:\n",
    "    print('Erro: arquivo não encontrado ou não pode ser salvo.')\n",
    "else:\n",
    "    print('Conteúdo gravado com sucesso!')\n",
    "    f.close()\n",
    "finally:\n",
    "    print('Comandos no bloco finally são sempre executados!')"
   ]
  },
  {
   "cell_type": "code",
   "execution_count": 10,
   "id": "53bd69e5",
   "metadata": {},
   "outputs": [],
   "source": [
    "def askint():\n",
    "    try:\n",
    "        val = int(input('Digite um número: '))\n",
    "    except UnboundLocalError:\n",
    "        print('Você não digitou um número!')\n",
    "    finally:\n",
    "        print('Obtigado!')\n",
    "    print(val)"
   ]
  },
  {
   "cell_type": "code",
   "execution_count": 11,
   "id": "a8e27f12",
   "metadata": {},
   "outputs": [
    {
     "name": "stdout",
     "output_type": "stream",
     "text": [
      "Digite um número: 4\n",
      "Obtigado!\n",
      "4\n"
     ]
    }
   ],
   "source": [
    "askint()"
   ]
  },
  {
   "cell_type": "code",
   "execution_count": 12,
   "id": "650e6d9c",
   "metadata": {},
   "outputs": [],
   "source": [
    "def askint():\n",
    "    try:\n",
    "        val = int(input(\"Digite um número: \"))\n",
    "    except:\n",
    "        print(\"Você não digitou um número!\")\n",
    "        val = int(input(\"Tente novamente. Digite um número: \"))\n",
    "    finally:\n",
    "        print(\"Obrigado\")\n",
    "    print(val)"
   ]
  },
  {
   "cell_type": "code",
   "execution_count": 13,
   "id": "6333002a",
   "metadata": {},
   "outputs": [
    {
     "name": "stdout",
     "output_type": "stream",
     "text": [
      "Digite um número: 7\n",
      "Obrigado\n",
      "7\n"
     ]
    }
   ],
   "source": [
    "askint()"
   ]
  },
  {
   "cell_type": "code",
   "execution_count": 14,
   "id": "6e69b5cd",
   "metadata": {},
   "outputs": [],
   "source": [
    "def askint():\n",
    "    while True:\n",
    "        try:\n",
    "            val = int(input(\"Digite um número: \"))\n",
    "        except:\n",
    "            print(\"Você não digitou um número!\")\n",
    "            continue\n",
    "        else:\n",
    "            print(\"Obrigado por digitar um número!\")\n",
    "            break\n",
    "        finally:\n",
    "            print(\"Fim da execução!\")\n",
    "        print(val)"
   ]
  },
  {
   "cell_type": "code",
   "execution_count": 15,
   "id": "1a320345",
   "metadata": {},
   "outputs": [
    {
     "name": "stdout",
     "output_type": "stream",
     "text": [
      "Digite um número: 77\n",
      "Obrigado por digitar um número!\n",
      "Fim da execução!\n"
     ]
    }
   ],
   "source": [
    "askint()"
   ]
  },
  {
   "cell_type": "code",
   "execution_count": 16,
   "id": "7f5ab375",
   "metadata": {},
   "outputs": [
    {
     "name": "stdout",
     "output_type": "stream",
     "text": [
      "Erro:  'tuple' object has no attribute 'append'\n"
     ]
    }
   ],
   "source": [
    "tuple = (1, 2, 3, 4, 5)\n",
    "\n",
    "try:\n",
    "    tuple.append(6)\n",
    "    for each in tuple:\n",
    "        print(each)\n",
    "except AttributeError as e:\n",
    "    print(\"Erro:\", e)\n",
    "except IOError as e:\n",
    "    print(\"Erro de I/O:\", e)"
   ]
  },
  {
   "cell_type": "markdown",
   "id": "c690705c",
   "metadata": {},
   "source": [
    "## Fim"
   ]
  }
 ],
 "metadata": {
  "kernelspec": {
   "display_name": "Python 3 (ipykernel)",
   "language": "python",
   "name": "python3"
  },
  "language_info": {
   "codemirror_mode": {
    "name": "ipython",
    "version": 3
   },
   "file_extension": ".py",
   "mimetype": "text/x-python",
   "name": "python",
   "nbconvert_exporter": "python",
   "pygments_lexer": "ipython3",
   "version": "3.10.2"
  }
 },
 "nbformat": 4,
 "nbformat_minor": 5
}
