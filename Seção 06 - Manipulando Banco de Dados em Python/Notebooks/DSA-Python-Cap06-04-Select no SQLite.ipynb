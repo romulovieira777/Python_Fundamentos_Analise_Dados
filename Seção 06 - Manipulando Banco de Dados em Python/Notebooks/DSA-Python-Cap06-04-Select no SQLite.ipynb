{
 "cells": [
  {
   "cell_type": "markdown",
   "id": "32c876b1",
   "metadata": {},
   "source": [
    "# <font color='Blue'>Data Science Academy - Python Fundamentos - Capítulo 6</font>"
   ]
  },
  {
   "cell_type": "markdown",
   "id": "23e2558a",
   "metadata": {},
   "source": [
    "## Leitura de dados"
   ]
  },
  {
   "cell_type": "code",
   "execution_count": 1,
   "id": "9839a227",
   "metadata": {},
   "outputs": [],
   "source": [
    "import sqlite3\n",
    "import random\n",
    "import time\n",
    "import datetime\n",
    "\n",
    "# Criando uma conexão\n",
    "conn = sqlite3.connect('dsa.db')\n",
    "\n",
    "# Criando um cursor\n",
    "c = conn.cursor()\n",
    "\n",
    "# Função para criar uma tabela\n",
    "def create_table():\n",
    "    c.execute('CREATE TABLE IF NOT EXISTS produtos(id INTEGER PRIMARY KEY AUTOINCREMENT NOT NULL, date TEXT, '\\\n",
    "              'prod_name TEXT, valor REAL)')\n",
    "\n",
    "# Função para inserir uma linha\n",
    "def data_insert():\n",
    "    c.execute(\"INSERT INTO produtos VALUES(002, '02-05-2016', 'teclado', 130)\")\n",
    "    conn.commit()\n",
    "    c.close()\n",
    "    conn.close()\n",
    "\n",
    "# Usando variáveis para inserir dados\n",
    "def data_insert_var():\n",
    "    new_date = datetime.datetime.now()\n",
    "    new_prod_name = 'monitor'\n",
    "    new_valor = random.randrange(50, 100)\n",
    "    c.execute(\"INSERT INTO produtos (date, prod_name, valor) VALUES(?, ?, ?, ?)\",\n",
    "             (new_date, new_prod_name, new_valor))\n",
    "    conn.commit()\n",
    "\n",
    "# Leitura de dados\n",
    "def leitura_todos_dados():\n",
    "    c.execute(\"SELECT * FROM produtos\")\n",
    "    for linha in c.fetchall():\n",
    "        print(linha)\n",
    "\n",
    "# Leitura de registros específicos\n",
    "def leitura_registros():\n",
    "    c.execute(\"SELECT * FROM produtos WHERE valor > 60.0\")\n",
    "    for linha in c.fetchall():\n",
    "        print(linha)\n",
    "\n",
    "# Leitura de colunas específicos\n",
    "def leitura_colunas():\n",
    "    c.execute(\"SELECT * FROM produtos\")\n",
    "    for linha in c.fetchall():\n",
    "        print(linha[3])"
   ]
  },
  {
   "cell_type": "code",
   "execution_count": 2,
   "id": "276de415",
   "metadata": {},
   "outputs": [
    {
     "name": "stdout",
     "output_type": "stream",
     "text": [
      "(10, '2018-05-02 14:32:11', 'Teclado', 90.0)\n",
      "(11, '2022-02-27 11:15:16.482611', 'Monitor', 96.0)\n",
      "(12, '2022-02-27 11:15:18.224840', 'Monitor', 95.0)\n",
      "(13, '2022-02-27 11:15:19.308111', 'Monitor', 77.0)\n",
      "(14, '2022-02-27 11:15:20.480115', 'Monitor', 72.0)\n",
      "(15, '2022-02-27 11:15:21.740457', 'Monitor', 91.0)\n",
      "(16, '2022-02-27 11:15:22.929019', 'Monitor', 53.0)\n",
      "(17, '2022-02-27 11:15:24.117567', 'Monitor', 76.0)\n",
      "(18, '2022-02-27 11:15:25.232713', 'Monitor', 65.0)\n",
      "(19, '2022-02-27 11:15:26.331813', 'Monitor', 94.0)\n",
      "(20, '2022-02-27 11:15:27.526135', 'Monitor', 88.0)\n"
     ]
    }
   ],
   "source": [
    "# Select nos dados\n",
    "leitura_todos_dados()"
   ]
  },
  {
   "cell_type": "code",
   "execution_count": 3,
   "id": "5e4a797f",
   "metadata": {},
   "outputs": [
    {
     "name": "stdout",
     "output_type": "stream",
     "text": [
      "(10, '2018-05-02 14:32:11', 'Teclado', 90.0)\n",
      "(11, '2022-02-27 11:15:16.482611', 'Monitor', 96.0)\n",
      "(12, '2022-02-27 11:15:18.224840', 'Monitor', 95.0)\n",
      "(13, '2022-02-27 11:15:19.308111', 'Monitor', 77.0)\n",
      "(14, '2022-02-27 11:15:20.480115', 'Monitor', 72.0)\n",
      "(15, '2022-02-27 11:15:21.740457', 'Monitor', 91.0)\n",
      "(17, '2022-02-27 11:15:24.117567', 'Monitor', 76.0)\n",
      "(18, '2022-02-27 11:15:25.232713', 'Monitor', 65.0)\n",
      "(19, '2022-02-27 11:15:26.331813', 'Monitor', 94.0)\n",
      "(20, '2022-02-27 11:15:27.526135', 'Monitor', 88.0)\n"
     ]
    }
   ],
   "source": [
    "# Leitura de registros específicos\n",
    "leitura_registros()"
   ]
  },
  {
   "cell_type": "code",
   "execution_count": 4,
   "id": "09e354d8",
   "metadata": {},
   "outputs": [
    {
     "name": "stdout",
     "output_type": "stream",
     "text": [
      "90.0\n",
      "96.0\n",
      "95.0\n",
      "77.0\n",
      "72.0\n",
      "91.0\n",
      "53.0\n",
      "76.0\n",
      "65.0\n",
      "94.0\n",
      "88.0\n"
     ]
    }
   ],
   "source": [
    "# Leitura de colunas específicas\n",
    "leitura_colunas()"
   ]
  },
  {
   "cell_type": "code",
   "execution_count": 5,
   "id": "008fcbe1",
   "metadata": {},
   "outputs": [],
   "source": [
    "# Encerrando a conexão\n",
    "c.close()\n",
    "conn.close()"
   ]
  },
  {
   "cell_type": "markdown",
   "id": "d9a5c284",
   "metadata": {},
   "source": [
    "## Fim"
   ]
  }
 ],
 "metadata": {
  "kernelspec": {
   "display_name": "Python 3 (ipykernel)",
   "language": "python",
   "name": "python3"
  },
  "language_info": {
   "codemirror_mode": {
    "name": "ipython",
    "version": 3
   },
   "file_extension": ".py",
   "mimetype": "text/x-python",
   "name": "python",
   "nbconvert_exporter": "python",
   "pygments_lexer": "ipython3",
   "version": "3.10.2"
  }
 },
 "nbformat": 4,
 "nbformat_minor": 5
}
