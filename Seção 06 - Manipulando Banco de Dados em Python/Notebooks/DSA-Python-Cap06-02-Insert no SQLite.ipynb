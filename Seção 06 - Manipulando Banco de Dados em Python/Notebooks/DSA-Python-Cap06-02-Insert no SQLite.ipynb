{
 "cells": [
  {
   "cell_type": "markdown",
   "id": "c97bb5f5",
   "metadata": {},
   "source": [
    "# <font color='Blue'>Data Science - Python Fundamentos - Capítulo 6</font>"
   ]
  },
  {
   "cell_type": "markdown",
   "id": "648d4381",
   "metadata": {},
   "source": [
    "## Criando o Banco de Dados e Inserindo Dados"
   ]
  },
  {
   "cell_type": "code",
   "execution_count": 1,
   "id": "a1285643",
   "metadata": {},
   "outputs": [],
   "source": [
    "# Reemove o arquivo com o banco de dados SQLite (caso exista)\n",
    "import os\n",
    "os.remove('dsa.db') if os.path.exists('dsa.db') else None"
   ]
  },
  {
   "cell_type": "code",
   "execution_count": 2,
   "id": "139a48e7",
   "metadata": {},
   "outputs": [],
   "source": [
    "import sqlite3\n",
    "\n",
    "# Criando uma conexão\n",
    "conn = sqlite3.connect('dsa.db')\n",
    "\n",
    "# Criando um cursor\n",
    "c = conn.cursor()\n",
    "\n",
    "# Função para criar uma tabela\n",
    "def create_table():\n",
    "    c.execute('CREATE TABLE IF NOT EXISTS produtos(id INTEGER PRIMARY KEY AUTOINCREMENT NOT NULL, date TEXT, '\\\n",
    "              'prod_name TEXT, valor REAL)')\n",
    "\n",
    "# Função para inserir linha\n",
    "def data_insert():\n",
    "    c.execute(\"INSERT INTO produtos VALUES (10, '2018-05-02 14:32:11', 'Teclado', 90)\")\n",
    "    conn.commit()\n",
    "    c.close()\n",
    "    conn.close()"
   ]
  },
  {
   "cell_type": "code",
   "execution_count": 3,
   "id": "8a6349cf",
   "metadata": {},
   "outputs": [],
   "source": [
    "# Criar tabela\n",
    "create_table()"
   ]
  },
  {
   "cell_type": "code",
   "execution_count": 4,
   "id": "01df28b7",
   "metadata": {},
   "outputs": [],
   "source": [
    "# Inserir dados\n",
    "data_insert()"
   ]
  },
  {
   "cell_type": "markdown",
   "id": "8677a091",
   "metadata": {},
   "source": [
    "## Fim"
   ]
  }
 ],
 "metadata": {
  "kernelspec": {
   "display_name": "Python 3 (ipykernel)",
   "language": "python",
   "name": "python3"
  },
  "language_info": {
   "codemirror_mode": {
    "name": "ipython",
    "version": 3
   },
   "file_extension": ".py",
   "mimetype": "text/x-python",
   "name": "python",
   "nbconvert_exporter": "python",
   "pygments_lexer": "ipython3",
   "version": "3.10.2"
  }
 },
 "nbformat": 4,
 "nbformat_minor": 5
}
