{
 "cells": [
  {
   "cell_type": "markdown",
   "id": "76c7328d",
   "metadata": {},
   "source": [
    "# <font color='blue'>Data Science Academy - Python Fundamentos - Capítulo 6</font>"
   ]
  },
  {
   "cell_type": "markdown",
   "id": "8b51c7c0",
   "metadata": {},
   "source": [
    "## Retornando Dados no MongoDB com PyMongo"
   ]
  },
  {
   "cell_type": "code",
   "execution_count": null,
   "id": "45acf3d3",
   "metadata": {},
   "outputs": [],
   "source": [
    "# Importando o Módulo PyMongo\n",
    "import pymongo"
   ]
  },
  {
   "cell_type": "code",
   "execution_count": null,
   "id": "2168d9a7",
   "metadata": {},
   "outputs": [],
   "source": [
    "# Criando a conexão com o MongoDB (neste caso, conexão padrão)\n",
    "client_con = pymongo.MongoClient()"
   ]
  },
  {
   "cell_type": "code",
   "execution_count": null,
   "id": "292a2471",
   "metadata": {},
   "outputs": [],
   "source": [
    "# Listando os banco de dados disponíveis"
   ]
  },
  {
   "cell_type": "code",
   "execution_count": null,
   "id": "3bea1e7d",
   "metadata": {},
   "outputs": [],
   "source": [
    "client_con.database_names()"
   ]
  },
  {
   "cell_type": "code",
   "execution_count": null,
   "id": "41bd9ff0",
   "metadata": {},
   "outputs": [],
   "source": [
    "# Definindo o objeto db\n",
    "db = client_con.cadastrodb"
   ]
  },
  {
   "cell_type": "code",
   "execution_count": null,
   "id": "67e74dc7",
   "metadata": {},
   "outputs": [],
   "source": [
    "# Listando as coleções disponíveis\n",
    "db.collection_names()"
   ]
  },
  {
   "cell_type": "code",
   "execution_count": null,
   "id": "abc4f379",
   "metadata": {},
   "outputs": [],
   "source": [
    "# Criando uma coleção"
   ]
  }
 ],
 "metadata": {
  "kernelspec": {
   "display_name": "Python 3 (ipykernel)",
   "language": "python",
   "name": "python3"
  },
  "language_info": {
   "codemirror_mode": {
    "name": "ipython",
    "version": 3
   },
   "file_extension": ".py",
   "mimetype": "text/x-python",
   "name": "python",
   "nbconvert_exporter": "python",
   "pygments_lexer": "ipython3",
   "version": "3.10.2"
  }
 },
 "nbformat": 4,
 "nbformat_minor": 5
}
