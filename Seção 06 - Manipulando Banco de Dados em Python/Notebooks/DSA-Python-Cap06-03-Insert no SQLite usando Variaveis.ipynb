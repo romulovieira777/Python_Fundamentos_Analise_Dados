{
 "cells": [
  {
   "cell_type": "markdown",
   "id": "1a0a3a95",
   "metadata": {},
   "source": [
    "# <font color='Blue'>Data Science Academy - Python Fundamentos - Capítulo 6</font>"
   ]
  },
  {
   "cell_type": "markdown",
   "id": "d009e265",
   "metadata": {},
   "source": [
    "## Inserindo Dados com Variáveis"
   ]
  },
  {
   "cell_type": "code",
   "execution_count": 1,
   "id": "3958d568",
   "metadata": {},
   "outputs": [],
   "source": [
    "import sqlite3\n",
    "import random\n",
    "import time\n",
    "import datetime\n",
    "\n",
    "# Criando uma conexão\n",
    "conn = sqlite3.connect('dsa.db')\n",
    "\n",
    "# Criando um cursor\n",
    "c = conn.cursor()\n",
    "\n",
    "# Função para criar uma tabela\n",
    "def create_table():\n",
    "    c.execute('CREATE TABLE IF NOT EXISTS produtos(id INTEGER PRIMARY KEY AUTOINCREMENT NOT NULL, date TEXT, '\\\n",
    "              'prod_name TEXT, valor REAL)')\n",
    "\n",
    "# Função para inserir uma linha\n",
    "def data_insert():\n",
    "    c.execute(\"INSERT INTO produtos VALUES('2018-05-02 12:34:45', 'Teclado', 130.00)\")\n",
    "    conn.commit()\n",
    "    c.close()\n",
    "    conn.close()\n",
    "    \n",
    "# Usando variáveis para inserir dados\n",
    "def data_insert_var():\n",
    "    new_date = datetime.datetime.now()\n",
    "    new_prod_name = 'Monitor'\n",
    "    new_valor = random.randrange(50, 100)\n",
    "    c.execute(\"INSERT INTO produtos(date, prod_name, valor) VALUES(?, ?, ?)\", (new_date, new_prod_name, new_valor))\n",
    "    conn.commit()"
   ]
  },
  {
   "cell_type": "code",
   "execution_count": 2,
   "id": "c2b4e849",
   "metadata": {},
   "outputs": [],
   "source": [
    "# Gerando valores e inserindo na tabela\n",
    "for i in range(10):\n",
    "    data_insert_var()\n",
    "    time.sleep(1)"
   ]
  },
  {
   "cell_type": "code",
   "execution_count": 3,
   "id": "b4a361dd",
   "metadata": {},
   "outputs": [],
   "source": [
    "# Encerrando a conexão\n",
    "c.close()\n",
    "conn.close()"
   ]
  },
  {
   "cell_type": "markdown",
   "id": "05b51551",
   "metadata": {},
   "source": [
    "## Fim"
   ]
  }
 ],
 "metadata": {
  "kernelspec": {
   "display_name": "Python 3 (ipykernel)",
   "language": "python",
   "name": "python3"
  },
  "language_info": {
   "codemirror_mode": {
    "name": "ipython",
    "version": 3
   },
   "file_extension": ".py",
   "mimetype": "text/x-python",
   "name": "python",
   "nbconvert_exporter": "python",
   "pygments_lexer": "ipython3",
   "version": "3.10.2"
  }
 },
 "nbformat": 4,
 "nbformat_minor": 5
}
