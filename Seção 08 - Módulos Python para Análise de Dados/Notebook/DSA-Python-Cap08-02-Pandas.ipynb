{
 "cells": [
  {
   "cell_type": "markdown",
   "id": "a6a0e704",
   "metadata": {},
   "source": [
    "# <font color='Blue'>Data Science Academy - Python Fundamentos - Capítulo 8</font>\n",
    "\n",
    "## Pandas\n",
    "\n",
    "Para poder trabalhar com Pandas, você deve conhecer bem estas duas estruturas: Series e DataFrama.\n",
    "\n",
    "Para importar o pandas, utilize: import pandas as pd\n",
    "\n",
    "Você também pode utilizar: from pandas import Series, DataFrame\n",
    "\n",
    "Para atualizar o Pandas, abra o prompt de comando ou terminal e digite: pip install pandas -U\n",
    "\n",
    "## Series\n",
    "\n",
    "Series é um array unidimensional que contém um array de dados e um array de labels, chamando índice."
   ]
  },
  {
   "cell_type": "code",
   "execution_count": 1,
   "id": "d4d8201f",
   "metadata": {},
   "outputs": [],
   "source": [
    "from pandas import Series"
   ]
  },
  {
   "cell_type": "code",
   "execution_count": 2,
   "id": "e65ddb48",
   "metadata": {},
   "outputs": [],
   "source": [
    "import pandas as pd"
   ]
  },
  {
   "cell_type": "code",
   "execution_count": 3,
   "id": "64c9d02b",
   "metadata": {},
   "outputs": [
    {
     "data": {
      "text/plain": [
       "'1.4.1'"
      ]
     },
     "execution_count": 3,
     "metadata": {},
     "output_type": "execute_result"
    }
   ],
   "source": [
    "pd.__version__"
   ]
  },
  {
   "cell_type": "code",
   "execution_count": 4,
   "id": "83505876",
   "metadata": {},
   "outputs": [],
   "source": [
    "# Criando uma série sem especificar os índices\n",
    "Obj = Series([67, 78, -56, 13])"
   ]
  },
  {
   "cell_type": "code",
   "execution_count": 5,
   "id": "d451a29a",
   "metadata": {},
   "outputs": [
    {
     "data": {
      "text/plain": [
       "0    67\n",
       "1    78\n",
       "2   -56\n",
       "3    13\n",
       "dtype: int64"
      ]
     },
     "execution_count": 5,
     "metadata": {},
     "output_type": "execute_result"
    }
   ],
   "source": [
    "Obj"
   ]
  },
  {
   "cell_type": "code",
   "execution_count": 6,
   "id": "fe56d8cc",
   "metadata": {},
   "outputs": [
    {
     "data": {
      "text/plain": [
       "pandas.core.series.Series"
      ]
     },
     "execution_count": 6,
     "metadata": {},
     "output_type": "execute_result"
    }
   ],
   "source": [
    "type(Obj)"
   ]
  },
  {
   "cell_type": "code",
   "execution_count": 7,
   "id": "ef0c2aa8",
   "metadata": {},
   "outputs": [
    {
     "data": {
      "text/plain": [
       "array([ 67,  78, -56,  13], dtype=int64)"
      ]
     },
     "execution_count": 7,
     "metadata": {},
     "output_type": "execute_result"
    }
   ],
   "source": [
    "Obj.values"
   ]
  },
  {
   "cell_type": "code",
   "execution_count": 8,
   "id": "eb972b3d",
   "metadata": {},
   "outputs": [
    {
     "data": {
      "text/plain": [
       "RangeIndex(start=0, stop=4, step=1)"
      ]
     },
     "execution_count": 8,
     "metadata": {},
     "output_type": "execute_result"
    }
   ],
   "source": [
    "Obj.index"
   ]
  },
  {
   "cell_type": "code",
   "execution_count": 9,
   "id": "f7573631",
   "metadata": {},
   "outputs": [],
   "source": [
    "# Criando uma série e especificando os índices\n",
    "Obj2 = Series([67, 78, -56, 13], index = ['a', 'b', 'c', 'd'])"
   ]
  },
  {
   "cell_type": "code",
   "execution_count": 10,
   "id": "983cb425",
   "metadata": {},
   "outputs": [
    {
     "data": {
      "text/plain": [
       "a    67\n",
       "b    78\n",
       "c   -56\n",
       "d    13\n",
       "dtype: int64"
      ]
     },
     "execution_count": 10,
     "metadata": {},
     "output_type": "execute_result"
    }
   ],
   "source": [
    "Obj2"
   ]
  },
  {
   "cell_type": "code",
   "execution_count": 11,
   "id": "aa2ce245",
   "metadata": {},
   "outputs": [
    {
     "data": {
      "text/plain": [
       "array([ 67,  78, -56,  13], dtype=int64)"
      ]
     },
     "execution_count": 11,
     "metadata": {},
     "output_type": "execute_result"
    }
   ],
   "source": [
    "Obj.values"
   ]
  },
  {
   "cell_type": "code",
   "execution_count": 12,
   "id": "eaa68bf4",
   "metadata": {},
   "outputs": [
    {
     "data": {
      "text/plain": [
       "Index(['a', 'b', 'c', 'd'], dtype='object')"
      ]
     },
     "execution_count": 12,
     "metadata": {},
     "output_type": "execute_result"
    }
   ],
   "source": [
    "Obj2.index"
   ]
  },
  {
   "cell_type": "code",
   "execution_count": 13,
   "id": "79140d5c",
   "metadata": {},
   "outputs": [
    {
     "data": {
      "text/plain": [
       "a    67\n",
       "b    78\n",
       "d    13\n",
       "dtype: int64"
      ]
     },
     "execution_count": 13,
     "metadata": {},
     "output_type": "execute_result"
    }
   ],
   "source": [
    "Obj2[Obj2 > 3]"
   ]
  },
  {
   "cell_type": "code",
   "execution_count": 14,
   "id": "dd649f58",
   "metadata": {},
   "outputs": [
    {
     "data": {
      "text/plain": [
       "13"
      ]
     },
     "execution_count": 14,
     "metadata": {},
     "output_type": "execute_result"
    }
   ],
   "source": [
    "Obj2['d']"
   ]
  },
  {
   "cell_type": "code",
   "execution_count": 15,
   "id": "46b9a9ed",
   "metadata": {},
   "outputs": [
    {
     "data": {
      "text/plain": [
       "True"
      ]
     },
     "execution_count": 15,
     "metadata": {},
     "output_type": "execute_result"
    }
   ],
   "source": [
    "'d' in Obj2"
   ]
  },
  {
   "cell_type": "code",
   "execution_count": 16,
   "id": "6698d2ee",
   "metadata": {},
   "outputs": [],
   "source": [
    "# Criando uma série de dados passando um dicionário como parâmetro\n",
    "dict = {'Futebol': 5200, 'Tenis': 120, 'Natação': 698, 'Volleyball': 1550}"
   ]
  },
  {
   "cell_type": "code",
   "execution_count": 17,
   "id": "85f0e051",
   "metadata": {},
   "outputs": [],
   "source": [
    "# Criando uma série a partir de um dicionário\n",
    "Obj3 = Series(dict)"
   ]
  },
  {
   "cell_type": "code",
   "execution_count": 18,
   "id": "e7d8729c",
   "metadata": {},
   "outputs": [
    {
     "data": {
      "text/plain": [
       "Futebol       5200\n",
       "Tenis          120\n",
       "Natação        698\n",
       "Volleyball    1550\n",
       "dtype: int64"
      ]
     },
     "execution_count": 18,
     "metadata": {},
     "output_type": "execute_result"
    }
   ],
   "source": [
    "Obj3"
   ]
  },
  {
   "cell_type": "code",
   "execution_count": 19,
   "id": "93b1f73b",
   "metadata": {},
   "outputs": [
    {
     "data": {
      "text/plain": [
       "pandas.core.series.Series"
      ]
     },
     "execution_count": 19,
     "metadata": {},
     "output_type": "execute_result"
    }
   ],
   "source": [
    "type(Obj3)"
   ]
  },
  {
   "cell_type": "code",
   "execution_count": 20,
   "id": "0f508b43",
   "metadata": {},
   "outputs": [],
   "source": [
    "# Criando uma lista\n",
    "esportes = ['Futebol', 'Tenis', 'Natação', 'Baskteball']"
   ]
  },
  {
   "cell_type": "code",
   "execution_count": 21,
   "id": "e0b29737",
   "metadata": {},
   "outputs": [],
   "source": [
    "# Criando uma série e usando uma lista como índice\n",
    "Obj4 = Series(dict, index = esportes)"
   ]
  },
  {
   "cell_type": "code",
   "execution_count": 22,
   "id": "76bf61ef",
   "metadata": {},
   "outputs": [
    {
     "data": {
      "text/plain": [
       "Futebol       5200.0\n",
       "Tenis          120.0\n",
       "Natação        698.0\n",
       "Baskteball       NaN\n",
       "dtype: float64"
      ]
     },
     "execution_count": 22,
     "metadata": {},
     "output_type": "execute_result"
    }
   ],
   "source": [
    "Obj4"
   ]
  },
  {
   "cell_type": "code",
   "execution_count": 23,
   "id": "8214ed43",
   "metadata": {},
   "outputs": [
    {
     "data": {
      "text/plain": [
       "Futebol       False\n",
       "Tenis         False\n",
       "Natação       False\n",
       "Baskteball     True\n",
       "dtype: bool"
      ]
     },
     "execution_count": 23,
     "metadata": {},
     "output_type": "execute_result"
    }
   ],
   "source": [
    "pd.isnull(Obj4)"
   ]
  },
  {
   "cell_type": "code",
   "execution_count": 24,
   "id": "16d05dc9",
   "metadata": {},
   "outputs": [
    {
     "data": {
      "text/plain": [
       "Futebol        True\n",
       "Tenis          True\n",
       "Natação        True\n",
       "Baskteball    False\n",
       "dtype: bool"
      ]
     },
     "execution_count": 24,
     "metadata": {},
     "output_type": "execute_result"
    }
   ],
   "source": [
    "pd.notnull(Obj4)"
   ]
  },
  {
   "cell_type": "code",
   "execution_count": 25,
   "id": "edc9e899",
   "metadata": {},
   "outputs": [
    {
     "data": {
      "text/plain": [
       "Futebol       False\n",
       "Tenis         False\n",
       "Natação       False\n",
       "Baskteball     True\n",
       "dtype: bool"
      ]
     },
     "execution_count": 25,
     "metadata": {},
     "output_type": "execute_result"
    }
   ],
   "source": [
    "Obj4.isnull()"
   ]
  },
  {
   "cell_type": "code",
   "execution_count": 26,
   "id": "ff083209",
   "metadata": {},
   "outputs": [
    {
     "data": {
      "text/plain": [
       "Baskteball        NaN\n",
       "Futebol       10400.0\n",
       "Natação        1396.0\n",
       "Tenis           240.0\n",
       "Volleyball        NaN\n",
       "dtype: float64"
      ]
     },
     "execution_count": 26,
     "metadata": {},
     "output_type": "execute_result"
    }
   ],
   "source": [
    "# Concatenando Séries\n",
    "Obj3 + Obj4"
   ]
  },
  {
   "cell_type": "code",
   "execution_count": 27,
   "id": "b1df58c7",
   "metadata": {},
   "outputs": [],
   "source": [
    "Obj4.name = 'população'"
   ]
  },
  {
   "cell_type": "code",
   "execution_count": 28,
   "id": "745c4e9b",
   "metadata": {},
   "outputs": [],
   "source": [
    "Obj4.index.name = 'esporte'"
   ]
  },
  {
   "cell_type": "code",
   "execution_count": 29,
   "id": "865a35cf",
   "metadata": {},
   "outputs": [
    {
     "data": {
      "text/plain": [
       "esporte\n",
       "Futebol       5200.0\n",
       "Tenis          120.0\n",
       "Natação        698.0\n",
       "Baskteball       NaN\n",
       "Name: população, dtype: float64"
      ]
     },
     "execution_count": 29,
     "metadata": {},
     "output_type": "execute_result"
    }
   ],
   "source": [
    "Obj4"
   ]
  },
  {
   "cell_type": "markdown",
   "id": "eecd27e3",
   "metadata": {},
   "source": [
    "## Dataframes\n",
    "\n",
    "Dataframes representam uma estrutura tabular semelhante a estrutura de uma planilha do Excel, contendo uma coleção de colunas em que cada uma pode ser um diferente tipo de valor (número, string, etc...). Os Dataframes possuem index e linhas e esta estrutura é muito semelhante a um dataframe em R. Os dados de um dataframe são armazenados e um ou mais blocos bidimensionais, ao ínves de listas, dicionários ou alguma outra estrutura de array."
   ]
  },
  {
   "cell_type": "code",
   "execution_count": 30,
   "id": "4cf393f6",
   "metadata": {},
   "outputs": [],
   "source": [
    "from pandas import DataFrame"
   ]
  },
  {
   "cell_type": "code",
   "execution_count": 31,
   "id": "74a9193b",
   "metadata": {},
   "outputs": [],
   "source": [
    "data = {'Estado': ['Santa Catarina', 'Paraná', 'Goiás', 'Bahia', 'Minas Gerais'],\n",
    "        'Ano': [2002, 2003, 2004, 2005, 2006],\n",
    "        'População': [1.5, 1.7, 3.6, 2.4, 2.9]}"
   ]
  },
  {
   "cell_type": "code",
   "execution_count": 32,
   "id": "069173ec",
   "metadata": {},
   "outputs": [],
   "source": [
    "frame = DataFrame(data)"
   ]
  },
  {
   "cell_type": "code",
   "execution_count": 33,
   "id": "7da583a4",
   "metadata": {},
   "outputs": [
    {
     "data": {
      "text/html": [
       "<div>\n",
       "<style scoped>\n",
       "    .dataframe tbody tr th:only-of-type {\n",
       "        vertical-align: middle;\n",
       "    }\n",
       "\n",
       "    .dataframe tbody tr th {\n",
       "        vertical-align: top;\n",
       "    }\n",
       "\n",
       "    .dataframe thead th {\n",
       "        text-align: right;\n",
       "    }\n",
       "</style>\n",
       "<table border=\"1\" class=\"dataframe\">\n",
       "  <thead>\n",
       "    <tr style=\"text-align: right;\">\n",
       "      <th></th>\n",
       "      <th>Estado</th>\n",
       "      <th>Ano</th>\n",
       "      <th>População</th>\n",
       "    </tr>\n",
       "  </thead>\n",
       "  <tbody>\n",
       "    <tr>\n",
       "      <th>0</th>\n",
       "      <td>Santa Catarina</td>\n",
       "      <td>2002</td>\n",
       "      <td>1.5</td>\n",
       "    </tr>\n",
       "    <tr>\n",
       "      <th>1</th>\n",
       "      <td>Paraná</td>\n",
       "      <td>2003</td>\n",
       "      <td>1.7</td>\n",
       "    </tr>\n",
       "    <tr>\n",
       "      <th>2</th>\n",
       "      <td>Goiás</td>\n",
       "      <td>2004</td>\n",
       "      <td>3.6</td>\n",
       "    </tr>\n",
       "    <tr>\n",
       "      <th>3</th>\n",
       "      <td>Bahia</td>\n",
       "      <td>2005</td>\n",
       "      <td>2.4</td>\n",
       "    </tr>\n",
       "    <tr>\n",
       "      <th>4</th>\n",
       "      <td>Minas Gerais</td>\n",
       "      <td>2006</td>\n",
       "      <td>2.9</td>\n",
       "    </tr>\n",
       "  </tbody>\n",
       "</table>\n",
       "</div>"
      ],
      "text/plain": [
       "           Estado   Ano  População\n",
       "0  Santa Catarina  2002        1.5\n",
       "1          Paraná  2003        1.7\n",
       "2           Goiás  2004        3.6\n",
       "3           Bahia  2005        2.4\n",
       "4    Minas Gerais  2006        2.9"
      ]
     },
     "execution_count": 33,
     "metadata": {},
     "output_type": "execute_result"
    }
   ],
   "source": [
    "frame"
   ]
  },
  {
   "cell_type": "code",
   "execution_count": 34,
   "id": "53b62fb1",
   "metadata": {},
   "outputs": [
    {
     "data": {
      "text/plain": [
       "pandas.core.frame.DataFrame"
      ]
     },
     "execution_count": 34,
     "metadata": {},
     "output_type": "execute_result"
    }
   ],
   "source": [
    "type(frame)"
   ]
  },
  {
   "cell_type": "code",
   "execution_count": 35,
   "id": "ec64c3c3",
   "metadata": {},
   "outputs": [
    {
     "data": {
      "text/html": [
       "<div>\n",
       "<style scoped>\n",
       "    .dataframe tbody tr th:only-of-type {\n",
       "        vertical-align: middle;\n",
       "    }\n",
       "\n",
       "    .dataframe tbody tr th {\n",
       "        vertical-align: top;\n",
       "    }\n",
       "\n",
       "    .dataframe thead th {\n",
       "        text-align: right;\n",
       "    }\n",
       "</style>\n",
       "<table border=\"1\" class=\"dataframe\">\n",
       "  <thead>\n",
       "    <tr style=\"text-align: right;\">\n",
       "      <th></th>\n",
       "      <th>Ano</th>\n",
       "      <th>Estado</th>\n",
       "      <th>População</th>\n",
       "    </tr>\n",
       "  </thead>\n",
       "  <tbody>\n",
       "    <tr>\n",
       "      <th>0</th>\n",
       "      <td>2002</td>\n",
       "      <td>Santa Catarina</td>\n",
       "      <td>1.5</td>\n",
       "    </tr>\n",
       "    <tr>\n",
       "      <th>1</th>\n",
       "      <td>2003</td>\n",
       "      <td>Paraná</td>\n",
       "      <td>1.7</td>\n",
       "    </tr>\n",
       "    <tr>\n",
       "      <th>2</th>\n",
       "      <td>2004</td>\n",
       "      <td>Goiás</td>\n",
       "      <td>3.6</td>\n",
       "    </tr>\n",
       "    <tr>\n",
       "      <th>3</th>\n",
       "      <td>2005</td>\n",
       "      <td>Bahia</td>\n",
       "      <td>2.4</td>\n",
       "    </tr>\n",
       "    <tr>\n",
       "      <th>4</th>\n",
       "      <td>2006</td>\n",
       "      <td>Minas Gerais</td>\n",
       "      <td>2.9</td>\n",
       "    </tr>\n",
       "  </tbody>\n",
       "</table>\n",
       "</div>"
      ],
      "text/plain": [
       "    Ano          Estado  População\n",
       "0  2002  Santa Catarina        1.5\n",
       "1  2003          Paraná        1.7\n",
       "2  2004           Goiás        3.6\n",
       "3  2005           Bahia        2.4\n",
       "4  2006    Minas Gerais        2.9"
      ]
     },
     "execution_count": 35,
     "metadata": {},
     "output_type": "execute_result"
    }
   ],
   "source": [
    "DataFrame(data, columns = ['Ano', 'Estado', 'População'])"
   ]
  },
  {
   "cell_type": "code",
   "execution_count": 36,
   "id": "abc8a6d9",
   "metadata": {},
   "outputs": [],
   "source": [
    "# Criando outro dataframe com os mesmo dados anteriores mas adicionando uma coluna\n",
    "frame2 = DataFrame(data, columns = ['Ano', 'Estado', 'População', 'Débito'],\n",
    "                   index = ['um', 'dois', 'três', 'quatro', 'cinco'])"
   ]
  },
  {
   "cell_type": "code",
   "execution_count": 37,
   "id": "c2e07ce3",
   "metadata": {},
   "outputs": [
    {
     "data": {
      "text/html": [
       "<div>\n",
       "<style scoped>\n",
       "    .dataframe tbody tr th:only-of-type {\n",
       "        vertical-align: middle;\n",
       "    }\n",
       "\n",
       "    .dataframe tbody tr th {\n",
       "        vertical-align: top;\n",
       "    }\n",
       "\n",
       "    .dataframe thead th {\n",
       "        text-align: right;\n",
       "    }\n",
       "</style>\n",
       "<table border=\"1\" class=\"dataframe\">\n",
       "  <thead>\n",
       "    <tr style=\"text-align: right;\">\n",
       "      <th></th>\n",
       "      <th>Ano</th>\n",
       "      <th>Estado</th>\n",
       "      <th>População</th>\n",
       "      <th>Débito</th>\n",
       "    </tr>\n",
       "  </thead>\n",
       "  <tbody>\n",
       "    <tr>\n",
       "      <th>um</th>\n",
       "      <td>2002</td>\n",
       "      <td>Santa Catarina</td>\n",
       "      <td>1.5</td>\n",
       "      <td>NaN</td>\n",
       "    </tr>\n",
       "    <tr>\n",
       "      <th>dois</th>\n",
       "      <td>2003</td>\n",
       "      <td>Paraná</td>\n",
       "      <td>1.7</td>\n",
       "      <td>NaN</td>\n",
       "    </tr>\n",
       "    <tr>\n",
       "      <th>três</th>\n",
       "      <td>2004</td>\n",
       "      <td>Goiás</td>\n",
       "      <td>3.6</td>\n",
       "      <td>NaN</td>\n",
       "    </tr>\n",
       "    <tr>\n",
       "      <th>quatro</th>\n",
       "      <td>2005</td>\n",
       "      <td>Bahia</td>\n",
       "      <td>2.4</td>\n",
       "      <td>NaN</td>\n",
       "    </tr>\n",
       "    <tr>\n",
       "      <th>cinco</th>\n",
       "      <td>2006</td>\n",
       "      <td>Minas Gerais</td>\n",
       "      <td>2.9</td>\n",
       "      <td>NaN</td>\n",
       "    </tr>\n",
       "  </tbody>\n",
       "</table>\n",
       "</div>"
      ],
      "text/plain": [
       "         Ano          Estado  População Débito\n",
       "um      2002  Santa Catarina        1.5    NaN\n",
       "dois    2003          Paraná        1.7    NaN\n",
       "três    2004           Goiás        3.6    NaN\n",
       "quatro  2005           Bahia        2.4    NaN\n",
       "cinco   2006    Minas Gerais        2.9    NaN"
      ]
     },
     "execution_count": 37,
     "metadata": {},
     "output_type": "execute_result"
    }
   ],
   "source": [
    "# Imprimindo o Dataframe\n",
    "frame2"
   ]
  },
  {
   "cell_type": "code",
   "execution_count": 38,
   "id": "615ecab3",
   "metadata": {},
   "outputs": [
    {
     "data": {
      "text/plain": [
       "um        Santa Catarina\n",
       "dois              Paraná\n",
       "três               Goiás\n",
       "quatro             Bahia\n",
       "cinco       Minas Gerais\n",
       "Name: Estado, dtype: object"
      ]
     },
     "execution_count": 38,
     "metadata": {},
     "output_type": "execute_result"
    }
   ],
   "source": [
    "# Imprimindo apenas uma coluna do Dataframe\n",
    "frame2['Estado']"
   ]
  },
  {
   "cell_type": "code",
   "execution_count": 39,
   "id": "c9e51273",
   "metadata": {},
   "outputs": [
    {
     "data": {
      "text/plain": [
       "pandas.core.frame.DataFrame"
      ]
     },
     "execution_count": 39,
     "metadata": {},
     "output_type": "execute_result"
    }
   ],
   "source": [
    "type(frame2)"
   ]
  },
  {
   "cell_type": "code",
   "execution_count": 40,
   "id": "657eb63f",
   "metadata": {},
   "outputs": [
    {
     "data": {
      "text/plain": [
       "Index(['um', 'dois', 'três', 'quatro', 'cinco'], dtype='object')"
      ]
     },
     "execution_count": 40,
     "metadata": {},
     "output_type": "execute_result"
    }
   ],
   "source": [
    "frame2.index"
   ]
  },
  {
   "cell_type": "code",
   "execution_count": 41,
   "id": "63fd15ae",
   "metadata": {},
   "outputs": [
    {
     "data": {
      "text/plain": [
       "Index(['Ano', 'Estado', 'População', 'Débito'], dtype='object')"
      ]
     },
     "execution_count": 41,
     "metadata": {},
     "output_type": "execute_result"
    }
   ],
   "source": [
    "frame2.columns"
   ]
  },
  {
   "cell_type": "code",
   "execution_count": 42,
   "id": "5f95bd4c",
   "metadata": {},
   "outputs": [
    {
     "data": {
      "text/plain": [
       "array([[2002, 'Santa Catarina', 1.5, nan],\n",
       "       [2003, 'Paraná', 1.7, nan],\n",
       "       [2004, 'Goiás', 3.6, nan],\n",
       "       [2005, 'Bahia', 2.4, nan],\n",
       "       [2006, 'Minas Gerais', 2.9, nan]], dtype=object)"
      ]
     },
     "execution_count": 42,
     "metadata": {},
     "output_type": "execute_result"
    }
   ],
   "source": [
    "frame2.values"
   ]
  },
  {
   "cell_type": "code",
   "execution_count": 43,
   "id": "71521d9d",
   "metadata": {},
   "outputs": [
    {
     "data": {
      "text/plain": [
       "Ano            int64\n",
       "Estado        object\n",
       "População    float64\n",
       "Débito        object\n",
       "dtype: object"
      ]
     },
     "execution_count": 43,
     "metadata": {},
     "output_type": "execute_result"
    }
   ],
   "source": [
    "frame2.dtypes"
   ]
  },
  {
   "cell_type": "code",
   "execution_count": 44,
   "id": "c673d1cb",
   "metadata": {},
   "outputs": [
    {
     "data": {
      "text/plain": [
       "um        2002\n",
       "dois      2003\n",
       "três      2004\n",
       "quatro    2005\n",
       "cinco     2006\n",
       "Name: Ano, dtype: int64"
      ]
     },
     "execution_count": 44,
     "metadata": {},
     "output_type": "execute_result"
    }
   ],
   "source": [
    "frame2['Ano']"
   ]
  },
  {
   "cell_type": "code",
   "execution_count": 45,
   "id": "e196c5ea",
   "metadata": {},
   "outputs": [
    {
     "data": {
      "text/plain": [
       "um        2002\n",
       "dois      2003\n",
       "três      2004\n",
       "quatro    2005\n",
       "cinco     2006\n",
       "Name: Ano, dtype: int64"
      ]
     },
     "execution_count": 45,
     "metadata": {},
     "output_type": "execute_result"
    }
   ],
   "source": [
    "frame2.Ano"
   ]
  },
  {
   "cell_type": "code",
   "execution_count": 46,
   "id": "9b78ec23",
   "metadata": {},
   "outputs": [
    {
     "data": {
      "text/html": [
       "<div>\n",
       "<style scoped>\n",
       "    .dataframe tbody tr th:only-of-type {\n",
       "        vertical-align: middle;\n",
       "    }\n",
       "\n",
       "    .dataframe tbody tr th {\n",
       "        vertical-align: top;\n",
       "    }\n",
       "\n",
       "    .dataframe thead th {\n",
       "        text-align: right;\n",
       "    }\n",
       "</style>\n",
       "<table border=\"1\" class=\"dataframe\">\n",
       "  <thead>\n",
       "    <tr style=\"text-align: right;\">\n",
       "      <th></th>\n",
       "      <th>Ano</th>\n",
       "      <th>Estado</th>\n",
       "      <th>População</th>\n",
       "      <th>Débito</th>\n",
       "    </tr>\n",
       "  </thead>\n",
       "  <tbody>\n",
       "    <tr>\n",
       "      <th>um</th>\n",
       "      <td>2002</td>\n",
       "      <td>Santa Catarina</td>\n",
       "      <td>1.5</td>\n",
       "      <td>NaN</td>\n",
       "    </tr>\n",
       "    <tr>\n",
       "      <th>dois</th>\n",
       "      <td>2003</td>\n",
       "      <td>Paraná</td>\n",
       "      <td>1.7</td>\n",
       "      <td>NaN</td>\n",
       "    </tr>\n",
       "  </tbody>\n",
       "</table>\n",
       "</div>"
      ],
      "text/plain": [
       "       Ano          Estado  População Débito\n",
       "um    2002  Santa Catarina        1.5    NaN\n",
       "dois  2003          Paraná        1.7    NaN"
      ]
     },
     "execution_count": 46,
     "metadata": {},
     "output_type": "execute_result"
    }
   ],
   "source": [
    "frame2[:2]"
   ]
  },
  {
   "cell_type": "markdown",
   "id": "eda46675",
   "metadata": {},
   "source": [
    "## Usando NumPy e Pandas"
   ]
  },
  {
   "cell_type": "code",
   "execution_count": 47,
   "id": "07f5a1f4",
   "metadata": {},
   "outputs": [],
   "source": [
    "# Importando o NumPy\n",
    "import numpy as np"
   ]
  },
  {
   "cell_type": "code",
   "execution_count": 48,
   "id": "fe3e8227",
   "metadata": {},
   "outputs": [],
   "source": [
    "# Usando o NumPy para alimentar uma das colunas do dataframe\n",
    "frame2['Débito'] = np.arange(5.)"
   ]
  },
  {
   "cell_type": "code",
   "execution_count": 49,
   "id": "ce12973e",
   "metadata": {},
   "outputs": [
    {
     "data": {
      "text/html": [
       "<div>\n",
       "<style scoped>\n",
       "    .dataframe tbody tr th:only-of-type {\n",
       "        vertical-align: middle;\n",
       "    }\n",
       "\n",
       "    .dataframe tbody tr th {\n",
       "        vertical-align: top;\n",
       "    }\n",
       "\n",
       "    .dataframe thead th {\n",
       "        text-align: right;\n",
       "    }\n",
       "</style>\n",
       "<table border=\"1\" class=\"dataframe\">\n",
       "  <thead>\n",
       "    <tr style=\"text-align: right;\">\n",
       "      <th></th>\n",
       "      <th>Ano</th>\n",
       "      <th>Estado</th>\n",
       "      <th>População</th>\n",
       "      <th>Débito</th>\n",
       "    </tr>\n",
       "  </thead>\n",
       "  <tbody>\n",
       "    <tr>\n",
       "      <th>um</th>\n",
       "      <td>2002</td>\n",
       "      <td>Santa Catarina</td>\n",
       "      <td>1.5</td>\n",
       "      <td>0.0</td>\n",
       "    </tr>\n",
       "    <tr>\n",
       "      <th>dois</th>\n",
       "      <td>2003</td>\n",
       "      <td>Paraná</td>\n",
       "      <td>1.7</td>\n",
       "      <td>1.0</td>\n",
       "    </tr>\n",
       "    <tr>\n",
       "      <th>três</th>\n",
       "      <td>2004</td>\n",
       "      <td>Goiás</td>\n",
       "      <td>3.6</td>\n",
       "      <td>2.0</td>\n",
       "    </tr>\n",
       "    <tr>\n",
       "      <th>quatro</th>\n",
       "      <td>2005</td>\n",
       "      <td>Bahia</td>\n",
       "      <td>2.4</td>\n",
       "      <td>3.0</td>\n",
       "    </tr>\n",
       "    <tr>\n",
       "      <th>cinco</th>\n",
       "      <td>2006</td>\n",
       "      <td>Minas Gerais</td>\n",
       "      <td>2.9</td>\n",
       "      <td>4.0</td>\n",
       "    </tr>\n",
       "  </tbody>\n",
       "</table>\n",
       "</div>"
      ],
      "text/plain": [
       "         Ano          Estado  População  Débito\n",
       "um      2002  Santa Catarina        1.5     0.0\n",
       "dois    2003          Paraná        1.7     1.0\n",
       "três    2004           Goiás        3.6     2.0\n",
       "quatro  2005           Bahia        2.4     3.0\n",
       "cinco   2006    Minas Gerais        2.9     4.0"
      ]
     },
     "execution_count": 49,
     "metadata": {},
     "output_type": "execute_result"
    }
   ],
   "source": [
    "frame2"
   ]
  },
  {
   "cell_type": "code",
   "execution_count": 50,
   "id": "aa3cfa97",
   "metadata": {},
   "outputs": [
    {
     "data": {
      "text/plain": [
       "array([[2002, 'Santa Catarina', 1.5, 0.0],\n",
       "       [2003, 'Paraná', 1.7, 1.0],\n",
       "       [2004, 'Goiás', 3.6, 2.0],\n",
       "       [2005, 'Bahia', 2.4, 3.0],\n",
       "       [2006, 'Minas Gerais', 2.9, 4.0]], dtype=object)"
      ]
     },
     "execution_count": 50,
     "metadata": {},
     "output_type": "execute_result"
    }
   ],
   "source": [
    "frame2.values"
   ]
  },
  {
   "cell_type": "code",
   "execution_count": 51,
   "id": "b0d0e884",
   "metadata": {},
   "outputs": [
    {
     "data": {
      "text/html": [
       "<div>\n",
       "<style scoped>\n",
       "    .dataframe tbody tr th:only-of-type {\n",
       "        vertical-align: middle;\n",
       "    }\n",
       "\n",
       "    .dataframe tbody tr th {\n",
       "        vertical-align: top;\n",
       "    }\n",
       "\n",
       "    .dataframe thead th {\n",
       "        text-align: right;\n",
       "    }\n",
       "</style>\n",
       "<table border=\"1\" class=\"dataframe\">\n",
       "  <thead>\n",
       "    <tr style=\"text-align: right;\">\n",
       "      <th></th>\n",
       "      <th>Ano</th>\n",
       "      <th>População</th>\n",
       "      <th>Débito</th>\n",
       "    </tr>\n",
       "  </thead>\n",
       "  <tbody>\n",
       "    <tr>\n",
       "      <th>count</th>\n",
       "      <td>5.000000</td>\n",
       "      <td>5.000000</td>\n",
       "      <td>5.000000</td>\n",
       "    </tr>\n",
       "    <tr>\n",
       "      <th>mean</th>\n",
       "      <td>2004.000000</td>\n",
       "      <td>2.420000</td>\n",
       "      <td>2.000000</td>\n",
       "    </tr>\n",
       "    <tr>\n",
       "      <th>std</th>\n",
       "      <td>1.581139</td>\n",
       "      <td>0.864292</td>\n",
       "      <td>1.581139</td>\n",
       "    </tr>\n",
       "    <tr>\n",
       "      <th>min</th>\n",
       "      <td>2002.000000</td>\n",
       "      <td>1.500000</td>\n",
       "      <td>0.000000</td>\n",
       "    </tr>\n",
       "    <tr>\n",
       "      <th>25%</th>\n",
       "      <td>2003.000000</td>\n",
       "      <td>1.700000</td>\n",
       "      <td>1.000000</td>\n",
       "    </tr>\n",
       "    <tr>\n",
       "      <th>50%</th>\n",
       "      <td>2004.000000</td>\n",
       "      <td>2.400000</td>\n",
       "      <td>2.000000</td>\n",
       "    </tr>\n",
       "    <tr>\n",
       "      <th>75%</th>\n",
       "      <td>2005.000000</td>\n",
       "      <td>2.900000</td>\n",
       "      <td>3.000000</td>\n",
       "    </tr>\n",
       "    <tr>\n",
       "      <th>max</th>\n",
       "      <td>2006.000000</td>\n",
       "      <td>3.600000</td>\n",
       "      <td>4.000000</td>\n",
       "    </tr>\n",
       "  </tbody>\n",
       "</table>\n",
       "</div>"
      ],
      "text/plain": [
       "               Ano  População    Débito\n",
       "count     5.000000   5.000000  5.000000\n",
       "mean   2004.000000   2.420000  2.000000\n",
       "std       1.581139   0.864292  1.581139\n",
       "min    2002.000000   1.500000  0.000000\n",
       "25%    2003.000000   1.700000  1.000000\n",
       "50%    2004.000000   2.400000  2.000000\n",
       "75%    2005.000000   2.900000  3.000000\n",
       "max    2006.000000   3.600000  4.000000"
      ]
     },
     "execution_count": 51,
     "metadata": {},
     "output_type": "execute_result"
    }
   ],
   "source": [
    "# Resumo do Dataframe\n",
    "frame2.describe()"
   ]
  },
  {
   "cell_type": "code",
   "execution_count": 52,
   "id": "d1b6160a",
   "metadata": {},
   "outputs": [
    {
     "data": {
      "text/html": [
       "<div>\n",
       "<style scoped>\n",
       "    .dataframe tbody tr th:only-of-type {\n",
       "        vertical-align: middle;\n",
       "    }\n",
       "\n",
       "    .dataframe tbody tr th {\n",
       "        vertical-align: top;\n",
       "    }\n",
       "\n",
       "    .dataframe thead th {\n",
       "        text-align: right;\n",
       "    }\n",
       "</style>\n",
       "<table border=\"1\" class=\"dataframe\">\n",
       "  <thead>\n",
       "    <tr style=\"text-align: right;\">\n",
       "      <th></th>\n",
       "      <th>Ano</th>\n",
       "      <th>Estado</th>\n",
       "      <th>População</th>\n",
       "      <th>Débito</th>\n",
       "    </tr>\n",
       "  </thead>\n",
       "  <tbody>\n",
       "    <tr>\n",
       "      <th>dois</th>\n",
       "      <td>2003</td>\n",
       "      <td>Paraná</td>\n",
       "      <td>1.7</td>\n",
       "      <td>1.0</td>\n",
       "    </tr>\n",
       "    <tr>\n",
       "      <th>três</th>\n",
       "      <td>2004</td>\n",
       "      <td>Goiás</td>\n",
       "      <td>3.6</td>\n",
       "      <td>2.0</td>\n",
       "    </tr>\n",
       "    <tr>\n",
       "      <th>quatro</th>\n",
       "      <td>2005</td>\n",
       "      <td>Bahia</td>\n",
       "      <td>2.4</td>\n",
       "      <td>3.0</td>\n",
       "    </tr>\n",
       "  </tbody>\n",
       "</table>\n",
       "</div>"
      ],
      "text/plain": [
       "         Ano  Estado  População  Débito\n",
       "dois    2003  Paraná        1.7     1.0\n",
       "três    2004   Goiás        3.6     2.0\n",
       "quatro  2005   Bahia        2.4     3.0"
      ]
     },
     "execution_count": 52,
     "metadata": {},
     "output_type": "execute_result"
    }
   ],
   "source": [
    "frame2['dois':'quatro']"
   ]
  },
  {
   "cell_type": "code",
   "execution_count": null,
   "id": "02c94147",
   "metadata": {},
   "outputs": [],
   "source": [
    "frame2 < 5"
   ]
  },
  {
   "cell_type": "markdown",
   "id": "57654b03",
   "metadata": {},
   "source": [
    "## Localizando Registros Dentro do Dataframe"
   ]
  },
  {
   "cell_type": "code",
   "execution_count": 53,
   "id": "d34ec958",
   "metadata": {},
   "outputs": [
    {
     "data": {
      "text/plain": [
       "Ano           2005\n",
       "Estado       Bahia\n",
       "População      2.4\n",
       "Débito         3.0\n",
       "Name: quatro, dtype: object"
      ]
     },
     "execution_count": 53,
     "metadata": {},
     "output_type": "execute_result"
    }
   ],
   "source": [
    "frame2.loc['quatro']"
   ]
  },
  {
   "cell_type": "code",
   "execution_count": 54,
   "id": "c1cc2464",
   "metadata": {},
   "outputs": [
    {
     "data": {
      "text/plain": [
       "Ano           2004\n",
       "Estado       Goiás\n",
       "População      3.6\n",
       "Débito         2.0\n",
       "Name: três, dtype: object"
      ]
     },
     "execution_count": 54,
     "metadata": {},
     "output_type": "execute_result"
    }
   ],
   "source": [
    "frame2.iloc[2]"
   ]
  },
  {
   "cell_type": "markdown",
   "id": "b97d565a",
   "metadata": {},
   "source": [
    "## Invertendo as Colunas e Índices"
   ]
  },
  {
   "cell_type": "code",
   "execution_count": 55,
   "id": "c60e209b",
   "metadata": {},
   "outputs": [],
   "source": [
    "# Criando um dicionário\n",
    "web_status = {'Dias': [1, 2, 3, 4, 5, 6, 7],\n",
    "              'Visitantes': [45, 23, 67, 78, 23, 12, 14],\n",
    "              'Taxas': [11, 22, 33, 44, 55, 66, 77]}"
   ]
  },
  {
   "cell_type": "code",
   "execution_count": 56,
   "id": "fefae883",
   "metadata": {},
   "outputs": [],
   "source": [
    "df = pd.DataFrame(web_status)"
   ]
  },
  {
   "cell_type": "code",
   "execution_count": 57,
   "id": "dae47dbb",
   "metadata": {},
   "outputs": [
    {
     "name": "stdout",
     "output_type": "stream",
     "text": [
      "   Dias  Visitantes  Taxas\n",
      "0     1          45     11\n",
      "1     2          23     22\n",
      "2     3          67     33\n",
      "3     4          78     44\n",
      "4     5          23     55\n",
      "5     6          12     66\n",
      "6     7          14     77\n"
     ]
    }
   ],
   "source": [
    "print(df)"
   ]
  },
  {
   "cell_type": "code",
   "execution_count": 58,
   "id": "834ab621",
   "metadata": {},
   "outputs": [
    {
     "name": "stdout",
     "output_type": "stream",
     "text": [
      "      Visitantes  Taxas\n",
      "Dias                   \n",
      "1             45     11\n",
      "2             23     22\n",
      "3             67     33\n",
      "4             78     44\n",
      "5             23     55\n",
      "6             12     66\n",
      "7             14     77\n"
     ]
    }
   ],
   "source": [
    "# Visualizando uma coluna index\n",
    "print(df.set_index('Dias'))"
   ]
  },
  {
   "cell_type": "code",
   "execution_count": 59,
   "id": "3b9367cc",
   "metadata": {},
   "outputs": [
    {
     "name": "stdout",
     "output_type": "stream",
     "text": [
      "   Dias  Visitantes  Taxas\n",
      "0     1          45     11\n",
      "1     2          23     22\n",
      "2     3          67     33\n",
      "3     4          78     44\n",
      "4     5          23     55\n"
     ]
    }
   ],
   "source": [
    "print(df.head())"
   ]
  },
  {
   "cell_type": "code",
   "execution_count": 60,
   "id": "fd07d5c8",
   "metadata": {},
   "outputs": [
    {
     "name": "stdout",
     "output_type": "stream",
     "text": [
      "0    45\n",
      "1    23\n",
      "2    67\n",
      "3    78\n",
      "4    23\n",
      "5    12\n",
      "6    14\n",
      "Name: Visitantes, dtype: int64\n"
     ]
    }
   ],
   "source": [
    "print(df['Visitantes'])"
   ]
  },
  {
   "cell_type": "code",
   "execution_count": 61,
   "id": "ec72b938",
   "metadata": {},
   "outputs": [
    {
     "name": "stdout",
     "output_type": "stream",
     "text": [
      "   Visitantes  Taxas\n",
      "0          45     11\n",
      "1          23     22\n",
      "2          67     33\n",
      "3          78     44\n",
      "4          23     55\n",
      "5          12     66\n",
      "6          14     77\n"
     ]
    }
   ],
   "source": [
    "print(df[['Visitantes', 'Taxas']])"
   ]
  },
  {
   "cell_type": "markdown",
   "id": "da8daa94",
   "metadata": {},
   "source": [
    "## Dataframes e Arquivos csv"
   ]
  },
  {
   "cell_type": "code",
   "execution_count": 62,
   "id": "c46febb0",
   "metadata": {},
   "outputs": [],
   "source": [
    "# Usando o método read_csv\n",
    "df = pd.read_csv('salarios.csv')"
   ]
  },
  {
   "cell_type": "code",
   "execution_count": 63,
   "id": "85d77d5f",
   "metadata": {},
   "outputs": [
    {
     "data": {
      "text/html": [
       "<div>\n",
       "<style scoped>\n",
       "    .dataframe tbody tr th:only-of-type {\n",
       "        vertical-align: middle;\n",
       "    }\n",
       "\n",
       "    .dataframe tbody tr th {\n",
       "        vertical-align: top;\n",
       "    }\n",
       "\n",
       "    .dataframe thead th {\n",
       "        text-align: right;\n",
       "    }\n",
       "</style>\n",
       "<table border=\"1\" class=\"dataframe\">\n",
       "  <thead>\n",
       "    <tr style=\"text-align: right;\">\n",
       "      <th></th>\n",
       "      <th>Name</th>\n",
       "      <th>Position Title</th>\n",
       "      <th>Department</th>\n",
       "      <th>Employee Annual Salary</th>\n",
       "    </tr>\n",
       "  </thead>\n",
       "  <tbody>\n",
       "    <tr>\n",
       "      <th>0</th>\n",
       "      <td>AARON,  ELVIA J</td>\n",
       "      <td>WATER RATE TAKER</td>\n",
       "      <td>WATER MGMNT</td>\n",
       "      <td>$88965.00</td>\n",
       "    </tr>\n",
       "    <tr>\n",
       "      <th>1</th>\n",
       "      <td>AARON,  JEFFERY M</td>\n",
       "      <td>POLICE OFFICER</td>\n",
       "      <td>POLICE</td>\n",
       "      <td>$80778.00</td>\n",
       "    </tr>\n",
       "    <tr>\n",
       "      <th>2</th>\n",
       "      <td>AARON,  KARINA</td>\n",
       "      <td>POLICE OFFICER</td>\n",
       "      <td>POLICE</td>\n",
       "      <td>$80778.00</td>\n",
       "    </tr>\n",
       "    <tr>\n",
       "      <th>3</th>\n",
       "      <td>AARON,  KIMBERLEI R</td>\n",
       "      <td>CHIEF CONTRACT EXPEDITER</td>\n",
       "      <td>GENERAL SERVICES</td>\n",
       "      <td>$84780.00</td>\n",
       "    </tr>\n",
       "    <tr>\n",
       "      <th>4</th>\n",
       "      <td>ABAD JR,  VICENTE M</td>\n",
       "      <td>CIVIL ENGINEER IV</td>\n",
       "      <td>WATER MGMNT</td>\n",
       "      <td>$104736.00</td>\n",
       "    </tr>\n",
       "    <tr>\n",
       "      <th>...</th>\n",
       "      <td>...</td>\n",
       "      <td>...</td>\n",
       "      <td>...</td>\n",
       "      <td>...</td>\n",
       "    </tr>\n",
       "    <tr>\n",
       "      <th>32177</th>\n",
       "      <td>ZYGOWICZ,  PETER J</td>\n",
       "      <td>POLICE OFFICER</td>\n",
       "      <td>POLICE</td>\n",
       "      <td>$86520.00</td>\n",
       "    </tr>\n",
       "    <tr>\n",
       "      <th>32178</th>\n",
       "      <td>ZYMANTAS,  MARK E</td>\n",
       "      <td>POLICE OFFICER</td>\n",
       "      <td>POLICE</td>\n",
       "      <td>$83616.00</td>\n",
       "    </tr>\n",
       "    <tr>\n",
       "      <th>32179</th>\n",
       "      <td>ZYRKOWSKI,  CARLO E</td>\n",
       "      <td>POLICE OFFICER</td>\n",
       "      <td>POLICE</td>\n",
       "      <td>$86520.00</td>\n",
       "    </tr>\n",
       "    <tr>\n",
       "      <th>32180</th>\n",
       "      <td>ZYSKOWSKI,  DARIUSZ</td>\n",
       "      <td>CHIEF DATA BASE ANALYST</td>\n",
       "      <td>DoIT</td>\n",
       "      <td>$110352.00</td>\n",
       "    </tr>\n",
       "    <tr>\n",
       "      <th>32181</th>\n",
       "      <td>NaN</td>\n",
       "      <td>NaN</td>\n",
       "      <td>NaN</td>\n",
       "      <td>NaN</td>\n",
       "    </tr>\n",
       "  </tbody>\n",
       "</table>\n",
       "<p>32182 rows × 4 columns</p>\n",
       "</div>"
      ],
      "text/plain": [
       "                      Name            Position Title        Department  \\\n",
       "0          AARON,  ELVIA J          WATER RATE TAKER       WATER MGMNT   \n",
       "1        AARON,  JEFFERY M            POLICE OFFICER            POLICE   \n",
       "2           AARON,  KARINA            POLICE OFFICER            POLICE   \n",
       "3      AARON,  KIMBERLEI R  CHIEF CONTRACT EXPEDITER  GENERAL SERVICES   \n",
       "4      ABAD JR,  VICENTE M         CIVIL ENGINEER IV       WATER MGMNT   \n",
       "...                    ...                       ...               ...   \n",
       "32177   ZYGOWICZ,  PETER J            POLICE OFFICER            POLICE   \n",
       "32178    ZYMANTAS,  MARK E            POLICE OFFICER            POLICE   \n",
       "32179  ZYRKOWSKI,  CARLO E            POLICE OFFICER            POLICE   \n",
       "32180  ZYSKOWSKI,  DARIUSZ   CHIEF DATA BASE ANALYST              DoIT   \n",
       "32181                  NaN                       NaN               NaN   \n",
       "\n",
       "      Employee Annual Salary  \n",
       "0                  $88965.00  \n",
       "1                  $80778.00  \n",
       "2                  $80778.00  \n",
       "3                  $84780.00  \n",
       "4                 $104736.00  \n",
       "...                      ...  \n",
       "32177              $86520.00  \n",
       "32178              $83616.00  \n",
       "32179              $86520.00  \n",
       "32180             $110352.00  \n",
       "32181                    NaN  \n",
       "\n",
       "[32182 rows x 4 columns]"
      ]
     },
     "execution_count": 63,
     "metadata": {},
     "output_type": "execute_result"
    }
   ],
   "source": [
    "df"
   ]
  },
  {
   "cell_type": "code",
   "execution_count": null,
   "id": "b250bff7",
   "metadata": {},
   "outputs": [],
   "source": []
  }
 ],
 "metadata": {
  "kernelspec": {
   "display_name": "Python 3 (ipykernel)",
   "language": "python",
   "name": "python3"
  },
  "language_info": {
   "codemirror_mode": {
    "name": "ipython",
    "version": 3
   },
   "file_extension": ".py",
   "mimetype": "text/x-python",
   "name": "python",
   "nbconvert_exporter": "python",
   "pygments_lexer": "ipython3",
   "version": "3.10.2"
  }
 },
 "nbformat": 4,
 "nbformat_minor": 5
}
