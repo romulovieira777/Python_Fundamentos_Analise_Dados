{
 "cells": [
  {
   "cell_type": "markdown",
   "id": "a6a0e704",
   "metadata": {},
   "source": [
    "# <font color='Blue'>Data Science Academy - Python Fundamentos - Capítulo 8</font>\n",
    "\n",
    "## Pandas\n",
    "\n",
    "Para poder trabalhar com Pandas, você deve conhecer bem estas duas estruturas: Series e DataFrama.\n",
    "\n",
    "Para importar o pandas, utilize: import pandas as pd\n",
    "\n",
    "Você também pode utilizar: from pandas import Series, DataFrame\n",
    "\n",
    "Para atualizar o Pandas, abra o prompt de comando ou terminal e digite: pip install pandas -U\n",
    "\n",
    "## Series\n",
    "\n",
    "Series é um array unidimensional que contém um array de dados e um array de labels, chamando índice."
   ]
  },
  {
   "cell_type": "code",
   "execution_count": null,
   "id": "d4d8201f",
   "metadata": {},
   "outputs": [],
   "source": []
  }
 ],
 "metadata": {
  "kernelspec": {
   "display_name": "Python 3 (ipykernel)",
   "language": "python",
   "name": "python3"
  },
  "language_info": {
   "codemirror_mode": {
    "name": "ipython",
    "version": 3
   },
   "file_extension": ".py",
   "mimetype": "text/x-python",
   "name": "python",
   "nbconvert_exporter": "python",
   "pygments_lexer": "ipython3",
   "version": "3.10.2"
  }
 },
 "nbformat": 4,
 "nbformat_minor": 5
}
